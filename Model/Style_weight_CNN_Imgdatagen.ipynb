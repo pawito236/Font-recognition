{
  "cells": [
    {
      "cell_type": "markdown",
      "metadata": {
        "id": "ivjUKa-RrtD2"
      },
      "source": [
        "CNN-Image classify"
      ]
    },
    {
      "cell_type": "code",
      "execution_count": null,
      "metadata": {
        "id": "uRdUlLNepjRF",
        "vscode": {
          "languageId": "python"
        }
      },
      "outputs": [],
      "source": [
        "import tensorflow as tf"
      ]
    },
    {
      "cell_type": "code",
      "execution_count": null,
      "metadata": {
        "id": "AdYjPZFFWk6h",
        "vscode": {
          "languageId": "python"
        }
      },
      "outputs": [],
      "source": [
        "import numpy as np\n",
        "import cv2\n",
        "import os\n",
        "from tqdm import tqdm\n",
        "import keras\n",
        "from keras.models import Sequential\n",
        "from keras.layers import Dense, Dropout, Activation, Flatten\n",
        "from keras.layers import Conv2D, MaxPooling2D\n",
        "import random\n",
        "import tensorflow"
      ]
    },
    {
      "cell_type": "code",
      "execution_count": null,
      "metadata": {
        "id": "HAAcEz-lWxFQ",
        "vscode": {
          "languageId": "python"
        }
      },
      "outputs": [],
      "source": [
        "from os import listdir\n",
        "from os.path import isfile, join"
      ]
    },
    {
      "cell_type": "code",
      "execution_count": null,
      "metadata": {
        "id": "xDi4ekhlSZVE",
        "vscode": {
          "languageId": "python"
        }
      },
      "outputs": [],
      "source": [
        "from matplotlib.pyplot import imshow\n",
        "import matplotlib.cm as cm\n",
        "import matplotlib.pylab as plt\n",
        "from keras.preprocessing.image import ImageDataGenerator\n",
        "import numpy as np\n",
        "import PIL\n",
        "from PIL import ImageFilter\n",
        "import cv2\n",
        "import itertools\n",
        "import random\n",
        "import keras\n",
        "import imutils\n",
        "from imutils import paths\n",
        "import os\n",
        "from keras import optimizers\n",
        "from keras.preprocessing.image import img_to_array\n",
        "from sklearn.model_selection import train_test_split\n",
        "# from keras.utils import to_categorical\n",
        "from keras import callbacks\n",
        "from keras.models import Sequential\n",
        "from tensorflow.keras.layers import BatchNormalization\n",
        "from keras.layers import Dense, Dropout, Flatten\n",
        "from keras.layers import Conv2D, MaxPooling2D , UpSampling2D ,Conv2DTranspose\n",
        "from keras import backend as K\n",
        "\n",
        "%matplotlib inline"
      ]
    },
    {
      "cell_type": "code",
      "execution_count": null,
      "metadata": {
        "id": "WsfDb6MhxEUf",
        "vscode": {
          "languageId": "python"
        }
      },
      "outputs": [],
      "source": [
        "import numpy as np # linear algebra\n",
        "import pandas as pd # data processing, CSV file I/O (e.g. pd.read_csv)\n",
        "import matplotlib.pyplot as plt\n",
        "import matplotlib.image as mpimg\n",
        "%matplotlib inline\n",
        "\n",
        "import tensorflow as tf\n",
        "from tensorflow.keras.preprocessing.image import ImageDataGenerator\n",
        "from tensorflow.keras.preprocessing.image import img_to_array, load_img\n",
        "from tensorflow.keras.utils import to_categorical\n",
        "from tensorflow.keras.layers import Reshape, Flatten\n",
        "\n",
        "import random\n",
        "import os"
      ]
    },
    {
      "cell_type": "code",
      "execution_count": null,
      "metadata": {
        "colab": {
          "base_uri": "https://localhost:8080/"
        },
        "id": "sFSWG8oyWzO4",
        "outputId": "af8623a0-c214-4331-cea0-ab249c42c23c",
        "vscode": {
          "languageId": "python"
        }
      },
      "outputs": [
        {
          "name": "stdout",
          "output_type": "stream",
          "text": [
            "['Kunlasatri', 'TH_Mali_Grade6', 'CORDIA', 'fonttintin', 'DM_Shining Star_Regular', 'FC_Knomphing_Regular', 'TH_Charm_of_AU', 'THSarabun', 'Angsana_New', 'TH_Chakra_Petch']\n"
          ]
        }
      ],
      "source": [
        "width = 64\n",
        "num_classes = 10\n",
        "trainpath = '/content/data/font_fam/'\n",
        "testpath = '/content/data/font_fam/'\n",
        "print(listdir(trainpath))\n",
        "trainImg = [trainpath+f for f in listdir(trainpath) if listdir(join(trainpath, f))]\n",
        "testImg = [testpath+f for f in listdir(testpath) if listdir(join(testpath, f))]"
      ]
    },
    {
      "cell_type": "code",
      "execution_count": null,
      "metadata": {
        "id": "tFSRk_ZScFe2",
        "vscode": {
          "languageId": "python"
        }
      },
      "outputs": [],
      "source": [
        "# testImg"
      ]
    },
    {
      "cell_type": "code",
      "execution_count": null,
      "metadata": {
        "id": "_Xj4DrptCba8",
        "vscode": {
          "languageId": "python"
        }
      },
      "outputs": [],
      "source": [
        "from keras.preprocessing import image\n",
        "import random\n",
        "def img2dataTrainTest(path, trainsize=0.8, testsizze = 0.2):\n",
        "  rawImgs = []\n",
        "  labels = []\n",
        "  x_train= [] \n",
        "  y_train= [] \n",
        "  x_test= [] \n",
        "  y_test = []\n",
        "  c = 0\n",
        "  samp = 0\n",
        "  for imagePath in (path):\n",
        "\n",
        "      for item in tqdm(os.listdir(imagePath)):\n",
        "          file = os.path.join(imagePath, item)\n",
        "\n",
        "          RAND = random.random()\n",
        "          if(RAND < trainsize):\n",
        "            l = (item.split(\"_\")[-2] + \"-\" + item.split(\"_\")[-1]).split(\".\")[0]\n",
        "            # print(l)\n",
        "            if(l[-1] ==\")\"):\n",
        "              print(\"continue\")\n",
        "              continue\n",
        "            if l == 'normal-bold':\n",
        "              y_train.append([1,0,0,0])         \n",
        "            if l == 'italic-bold':  # most\n",
        "              y_train.append([0,1,0,0])\n",
        "            if l == 'normal-normal': # 0\n",
        "              y_train.append([0,0,1,0])\n",
        "            if l == 'italic-normal':\n",
        "              y_train.append([0,0,0,1])\n",
        "            # else:\n",
        "            #   print(\"notmatch\")\n",
        "            #   print(item)\n",
        "\n",
        "            img = image.load_img(file, grayscale=True)\n",
        "            img = img.crop((0,0,112,28))\n",
        "\n",
        "            ## Convert the Image object into a numpy array\n",
        "            img = image.img_to_array(img)\n",
        "\n",
        "            ## Add to a list of images and classes\n",
        "            x_train.append(img)\n",
        "          else:\n",
        "            l = (item.split(\"_\")[-2] + \"-\" + item.split(\"_\")[-1]).split(\".\")[0]\n",
        "            # print(l)\n",
        "            if(l[-1] ==\")\"):\n",
        "              print(\"continue\")\n",
        "              continue             \n",
        "            if l == 'normal-bold':\n",
        "              # print(\"xxxxxx\")\n",
        "              y_test.append([1,0,0,0])         \n",
        "            if l == 'italic-bold':  # most\n",
        "              y_test.append([0,1,0,0])\n",
        "            if l == 'normal-normal': # 0\n",
        "              y_test.append([0,0,1,0])\n",
        "            if l == 'italic-normal':\n",
        "              y_test.append([0,0,0,1])\n",
        "            # else:\n",
        "            #   print(\"notmatch\")\n",
        "              # print(item)\n",
        "\n",
        "            img = image.load_img(file, grayscale=True)\n",
        "            img = img.crop((0,0,112,28))\n",
        "\n",
        "            ## Convert the Image object into a numpy array\n",
        "            img = image.img_to_array(img)\n",
        "\n",
        "            ## Add to a list of images and classes\n",
        "            x_test.append(img)\n",
        "\n",
        "            \n",
        "  return x_train, y_train, x_test, y_test"
      ]
    },
    {
      "cell_type": "code",
      "execution_count": null,
      "metadata": {
        "colab": {
          "base_uri": "https://localhost:8080/"
        },
        "id": "2FNoyHWkNpcF",
        "outputId": "19b5403e-ae62-4004-fd8f-62ea10fb42c3",
        "vscode": {
          "languageId": "python"
        }
      },
      "outputs": [
        {
          "name": "stderr",
          "output_type": "stream",
          "text": [
            "  0%|          | 0/6883 [00:00<?, ?it/s]/usr/local/lib/python3.7/dist-packages/keras_preprocessing/image/utils.py:107: UserWarning: grayscale is deprecated. Please use color_mode = \"grayscale\"\n",
            "  warnings.warn('grayscale is deprecated. Please use '\n",
            "100%|██████████| 6883/6883 [00:02<00:00, 2917.05it/s]\n",
            "100%|██████████| 7279/7279 [00:02<00:00, 3120.18it/s]\n",
            "100%|██████████| 7370/7370 [00:02<00:00, 3297.59it/s]\n",
            "100%|██████████| 3313/3313 [00:00<00:00, 3314.87it/s]\n",
            "100%|██████████| 5991/5991 [00:01<00:00, 3399.56it/s]\n",
            "100%|██████████| 7144/7144 [00:02<00:00, 3468.13it/s]\n",
            "100%|██████████| 6046/6046 [00:01<00:00, 3338.77it/s]\n",
            "100%|██████████| 6992/6992 [00:02<00:00, 3298.22it/s]\n",
            "  9%|▉         | 683/7294 [00:00<00:01, 3421.84it/s]"
          ]
        },
        {
          "name": "stdout",
          "output_type": "stream",
          "text": [
            "continue\n",
            "continue\n"
          ]
        },
        {
          "name": "stderr",
          "output_type": "stream",
          "text": [
            " 19%|█▊        | 1365/7294 [00:00<00:01, 3254.13it/s]"
          ]
        },
        {
          "name": "stdout",
          "output_type": "stream",
          "text": [
            "continue\n",
            "continue\n",
            "continue\n"
          ]
        },
        {
          "name": "stderr",
          "output_type": "stream",
          "text": [
            " 37%|███▋      | 2708/7294 [00:00<00:01, 3245.74it/s]"
          ]
        },
        {
          "name": "stdout",
          "output_type": "stream",
          "text": [
            "continue\n",
            "continue\n",
            "continue\n",
            "continue\n"
          ]
        },
        {
          "name": "stderr",
          "output_type": "stream",
          "text": [
            " 46%|████▌     | 3370/7294 [00:01<00:01, 3258.61it/s]"
          ]
        },
        {
          "name": "stdout",
          "output_type": "stream",
          "text": [
            "continue\n",
            "continue\n",
            "continue\n",
            "continue\n"
          ]
        },
        {
          "name": "stderr",
          "output_type": "stream",
          "text": [
            " 55%|█████▌    | 4040/7294 [00:01<00:00, 3308.86it/s]"
          ]
        },
        {
          "name": "stdout",
          "output_type": "stream",
          "text": [
            "continue\n"
          ]
        },
        {
          "name": "stderr",
          "output_type": "stream",
          "text": [
            " 69%|██████▉   | 5038/7294 [00:01<00:00, 3254.02it/s]"
          ]
        },
        {
          "name": "stdout",
          "output_type": "stream",
          "text": [
            "continue\n",
            "continue\n",
            "continue\n"
          ]
        },
        {
          "name": "stderr",
          "output_type": "stream",
          "text": [
            " 88%|████████▊ | 6387/7294 [00:01<00:00, 3341.36it/s]"
          ]
        },
        {
          "name": "stdout",
          "output_type": "stream",
          "text": [
            "continue\n"
          ]
        },
        {
          "name": "stderr",
          "output_type": "stream",
          "text": [
            "100%|██████████| 7294/7294 [00:02<00:00, 3300.29it/s]\n"
          ]
        },
        {
          "name": "stdout",
          "output_type": "stream",
          "text": [
            "continue\n"
          ]
        },
        {
          "name": "stderr",
          "output_type": "stream",
          "text": [
            "100%|██████████| 7223/7223 [00:02<00:00, 3053.62it/s]\n"
          ]
        }
      ],
      "source": [
        "x_train, y_train, x_test, y_test = img2dataTrainTest(trainImg)"
      ]
    },
    {
      "cell_type": "code",
      "execution_count": null,
      "metadata": {
        "id": "vgZDhbLid6uP",
        "vscode": {
          "languageId": "python"
        }
      },
      "outputs": [],
      "source": [
        "x_train = np.array(x_train)\n",
        "y_train = np.array(y_train)\n",
        "x_test = np.array(x_test)\n",
        "y_test = np.array(y_test)\n",
        "x_train = x_train.astype('float32')\n",
        "x_test = x_test.astype('float32')\n",
        "x_train /= 255\n",
        "x_test /= 255"
      ]
    },
    {
      "cell_type": "code",
      "execution_count": null,
      "metadata": {
        "colab": {
          "base_uri": "https://localhost:8080/"
        },
        "id": "FICOsa4VgK2U",
        "outputId": "ceccaac3-b857-4653-ee18-a1b14e4c1a4a",
        "vscode": {
          "languageId": "python"
        }
      },
      "outputs": [
        {
          "data": {
            "text/plain": [
              "((52501, 28, 112, 1), (52501, 4), (13015, 28, 112, 1), (13015, 4))"
            ]
          },
          "execution_count": 66,
          "metadata": {},
          "output_type": "execute_result"
        }
      ],
      "source": [
        "x_train.shape,y_train.shape,x_test.shape, y_test.shape"
      ]
    },
    {
      "cell_type": "code",
      "execution_count": null,
      "metadata": {
        "colab": {
          "base_uri": "https://localhost:8080/"
        },
        "id": "Xt1FRXzknMge",
        "outputId": "cad36f51-b472-44ca-8b13-ce3950b178b5",
        "vscode": {
          "languageId": "python"
        }
      },
      "outputs": [
        {
          "data": {
            "text/plain": [
              "array([[0, 0, 0, 1],\n",
              "       [0, 0, 1, 0],\n",
              "       [1, 0, 0, 0],\n",
              "       ...,\n",
              "       [0, 0, 1, 0],\n",
              "       [0, 1, 0, 0],\n",
              "       [0, 1, 0, 0]])"
            ]
          },
          "execution_count": 67,
          "metadata": {},
          "output_type": "execute_result"
        }
      ],
      "source": [
        "y_test"
      ]
    },
    {
      "cell_type": "code",
      "execution_count": null,
      "metadata": {
        "id": "x5Lt5VKVv47A",
        "vscode": {
          "languageId": "python"
        }
      },
      "outputs": [],
      "source": [
        "epochs = 20\n",
        "batch_size = 128"
      ]
    },
    {
      "cell_type": "code",
      "execution_count": null,
      "metadata": {
        "id": "4avzDBYsv2H_",
        "vscode": {
          "languageId": "python"
        }
      },
      "outputs": [],
      "source": [
        "model=Sequential()\n",
        "\n",
        "#model.add(Lambda(standardize,input_shape=(28,28,1)))    \n",
        "model.add(Conv2D(filters=64, kernel_size = (3,3), activation=\"relu\", input_shape=(28,112,1)))\n",
        "model.add(Conv2D(filters=64, kernel_size = (3,3), activation=\"relu\"))\n",
        "\n",
        "model.add(MaxPooling2D(pool_size=(2,2)))\n",
        "model.add(BatchNormalization())\n",
        "model.add(Conv2D(filters=128, kernel_size = (3,3), activation=\"relu\"))\n",
        "model.add(Conv2D(filters=128, kernel_size = (3,3), activation=\"relu\"))\n",
        "\n",
        "model.add(MaxPooling2D(pool_size=(2,2)))\n",
        "model.add(BatchNormalization())    \n",
        "model.add(Conv2D(filters=256, kernel_size = (3,3), activation=\"relu\"))\n",
        "model.add(Dropout(0.25))\n",
        "    \n",
        "model.add(MaxPooling2D(pool_size=(2,2)))\n",
        "    \n",
        "model.add(Flatten())\n",
        "model.add(BatchNormalization())\n",
        "model.add(Dense(512,activation=\"relu\"))\n",
        "model.add(Dropout(0.25))\n",
        "\n",
        "model.add(Dense(4,activation=\"softmax\"))\n",
        "    \n",
        "model.compile(loss=\"categorical_crossentropy\", optimizer=\"adam\", metrics=[\"accuracy\"])"
      ]
    },
    {
      "cell_type": "code",
      "execution_count": null,
      "metadata": {
        "id": "DzGrebM5j-d-",
        "vscode": {
          "languageId": "python"
        }
      },
      "outputs": [],
      "source": [
        "model=Sequential()\n",
        "\n",
        "#model.add(Lambda(standardize,input_shape=(28,28,1)))    \n",
        "model.add(Conv2D(filters=64, kernel_size = (3,3), activation=\"relu\", input_shape=(28,112,1)))\n",
        "model.add(Conv2D(filters=64, kernel_size = (3,3), activation=\"relu\"))\n",
        "\n",
        "model.add(MaxPooling2D(pool_size=(2,2)))\n",
        "model.add(BatchNormalization())\n",
        "model.add(Conv2D(filters=128, kernel_size = (3,3), activation=\"relu\"))\n",
        "model.add(Conv2D(filters=128, kernel_size = (3,3), activation=\"relu\"))\n",
        "\n",
        "model.add(MaxPooling2D(pool_size=(2,2)))\n",
        "model.add(BatchNormalization())    \n",
        "model.add(Conv2D(filters=256, kernel_size = (3,3), activation=\"relu\"))\n",
        "model.add(Dropout(0.5))\n",
        "    \n",
        "model.add(MaxPooling2D(pool_size=(2,2)))\n",
        "    \n",
        "model.add(Flatten())\n",
        "model.add(BatchNormalization())\n",
        "model.add(Dense(256,activation=\"relu\"))\n",
        "model.add(Dropout(0.5))\n",
        "\n",
        "model.add(Dense(4,activation=\"softmax\"))\n",
        "    \n",
        "model.compile(loss=\"categorical_crossentropy\", optimizer=\"adam\", metrics=[\"accuracy\"])"
      ]
    },
    {
      "cell_type": "code",
      "execution_count": null,
      "metadata": {
        "colab": {
          "base_uri": "https://localhost:8080/"
        },
        "id": "tJtWIq2ve6Sw",
        "outputId": "3a297fb4-f9de-447e-80d6-edd3af3491bc",
        "vscode": {
          "languageId": "python"
        }
      },
      "outputs": [
        {
          "name": "stdout",
          "output_type": "stream",
          "text": [
            "Found 15004 images belonging to 4 classes.\n",
            "/content/drive/MyDrive/Machima/MiniHackathon-Week1-FontRecogition/font_recognition/train/TrainsetPad/Weight-Style/\n",
            "Found 9999 images belonging to 4 classes.\n"
          ]
        }
      ],
      "source": [
        "directory = '/content/drive/MyDrive/Machima/MiniHackathon-Week1-FontRecogition/font_recognition/train/TrainsetPad/Weight-Style/'\n",
        "\n",
        "train_datagen = ImageDataGenerator(\n",
        "    rescale=1./255,\n",
        "    validation_split=0.4) # set validation split\n",
        "\n",
        "train_generator = train_datagen.flow_from_directory(\n",
        "    directory,\n",
        "    color_mode='grayscale',\n",
        "    target_size=(28, 112),\n",
        "    batch_size=128,\n",
        "    subset='training') # set as training data\n",
        "\n",
        "print(directory)\n",
        "validation_generator = train_datagen.flow_from_directory(\n",
        "    directory, # same directory as training data\n",
        "    target_size=(28, 112),\n",
        "    color_mode='grayscale',\n",
        "    batch_size=128,\n",
        "    subset='validation') # set as validation data  "
      ]
    },
    {
      "cell_type": "code",
      "execution_count": null,
      "metadata": {
        "id": "NCNexLG_vpm7",
        "vscode": {
          "languageId": "python"
        }
      },
      "outputs": [],
      "source": [
        "# With data augmentation to prevent overfitting\n",
        "\n",
        "datagen = ImageDataGenerator(\n",
        "        featurewise_center=False,  # set input mean to 0 over the dataset\n",
        "        samplewise_center=False,  # set each sample mean to 0\n",
        "        featurewise_std_normalization=False,  # divide inputs by std of the dataset\n",
        "        samplewise_std_normalization=False,  # divide each input by its std\n",
        "        zca_whitening=False,  # apply ZCA whitening\n",
        "        #rotation_range=10,  # randomly rotate images in the range (degrees, 0 to 180)\n",
        "        rotation_range=0,\n",
        "        zoom_range = 0.1, # Randomly zoom image \n",
        "        width_shift_range=0.1,  # randomly shift images horizontally (fraction of total width)\n",
        "        height_shift_range=0.1,  # randomly shift images vertically (fraction of total height)\n",
        "        horizontal_flip=False,  # randomly flip images\n",
        "        vertical_flip=False)  # randomly flip images\n",
        "\n",
        "datagen.fit(x_train)\n",
        "#datagen.fit(X_train)\n",
        "train_gen = datagen.flow(x_train, y_train, batch_size=batch_size)\n",
        "val_gen = datagen.flow(x_test, y_test, batch_size=batch_size)"
      ]
    },
    {
      "cell_type": "code",
      "execution_count": null,
      "metadata": {
        "id": "SvmztBgeqbfL",
        "vscode": {
          "languageId": "python"
        }
      },
      "outputs": [],
      "source": [
        "early_stopping=callbacks.EarlyStopping(monitor='val_loss', min_delta=0, patience=5, verbose=0, mode='min')\n",
        "\n",
        "filepath=\"/content/drive/MyDrive/Machi/Clear_Pong_style_weigth.h5\"\n",
        "\n",
        "checkpoint = callbacks.ModelCheckpoint(filepath, monitor='val_loss', verbose=1, save_best_only=True, mode='min')\n",
        "\n",
        "callbacks_list = [early_stopping,checkpoint]"
      ]
    },
    {
      "cell_type": "code",
      "execution_count": null,
      "metadata": {
        "colab": {
          "base_uri": "https://localhost:8080/"
        },
        "id": "dXqP8NAJpESs",
        "outputId": "04058d04-cd4d-4010-e511-9b49fe3a9450",
        "vscode": {
          "languageId": "python"
        }
      },
      "outputs": [
        {
          "name": "stderr",
          "output_type": "stream",
          "text": [
            "/usr/local/lib/python3.7/dist-packages/keras/optimizer_v2/adam.py:105: UserWarning: The `lr` argument is deprecated, use `learning_rate` instead.\n",
            "  super(Adam, self).__init__(name, **kwargs)\n"
          ]
        }
      ],
      "source": [
        "model.compile(optimizer=tf.keras.optimizers.Adam(lr=0.00001), loss='categorical_crossentropy'\n",
        "                , metrics= ['accuracy'], weighted_metrics=['accuracy'])"
      ]
    },
    {
      "cell_type": "code",
      "execution_count": null,
      "metadata": {
        "colab": {
          "base_uri": "https://localhost:8080/"
        },
        "id": "KVj4OMXdDHe5",
        "outputId": "180736cd-2f14-4814-948a-d65c5d10d484",
        "vscode": {
          "languageId": "python"
        }
      },
      "outputs": [
        {
          "name": "stdout",
          "output_type": "stream",
          "text": [
            "Model: \"sequential_4\"\n",
            "_________________________________________________________________\n",
            " Layer (type)                Output Shape              Param #   \n",
            "=================================================================\n",
            " conv2d_20 (Conv2D)          (None, 26, 110, 64)       640       \n",
            "                                                                 \n",
            " conv2d_21 (Conv2D)          (None, 24, 108, 64)       36928     \n",
            "                                                                 \n",
            " max_pooling2d_12 (MaxPoolin  (None, 12, 54, 64)       0         \n",
            " g2D)                                                            \n",
            "                                                                 \n",
            " batch_normalization_12 (Bat  (None, 12, 54, 64)       256       \n",
            " chNormalization)                                                \n",
            "                                                                 \n",
            " conv2d_22 (Conv2D)          (None, 10, 52, 128)       73856     \n",
            "                                                                 \n",
            " conv2d_23 (Conv2D)          (None, 8, 50, 128)        147584    \n",
            "                                                                 \n",
            " max_pooling2d_13 (MaxPoolin  (None, 4, 25, 128)       0         \n",
            " g2D)                                                            \n",
            "                                                                 \n",
            " batch_normalization_13 (Bat  (None, 4, 25, 128)       512       \n",
            " chNormalization)                                                \n",
            "                                                                 \n",
            " conv2d_24 (Conv2D)          (None, 2, 23, 256)        295168    \n",
            "                                                                 \n",
            " dropout_8 (Dropout)         (None, 2, 23, 256)        0         \n",
            "                                                                 \n",
            " max_pooling2d_14 (MaxPoolin  (None, 1, 11, 256)       0         \n",
            " g2D)                                                            \n",
            "                                                                 \n",
            " flatten_4 (Flatten)         (None, 2816)              0         \n",
            "                                                                 \n",
            " batch_normalization_14 (Bat  (None, 2816)             11264     \n",
            " chNormalization)                                                \n",
            "                                                                 \n",
            " dense_8 (Dense)             (None, 512)               1442304   \n",
            "                                                                 \n",
            " dropout_9 (Dropout)         (None, 512)               0         \n",
            "                                                                 \n",
            " dense_9 (Dense)             (None, 4)                 2052      \n",
            "                                                                 \n",
            "=================================================================\n",
            "Total params: 2,010,564\n",
            "Trainable params: 2,004,548\n",
            "Non-trainable params: 6,016\n",
            "_________________________________________________________________\n"
          ]
        }
      ],
      "source": [
        "model.summary()"
      ]
    },
    {
      "cell_type": "code",
      "execution_count": null,
      "metadata": {
        "colab": {
          "base_uri": "https://localhost:8080/"
        },
        "id": "C5hqXdR-2GFm",
        "outputId": "048ee146-9e4c-4727-8fee-cb52bb45d5f3",
        "vscode": {
          "languageId": "python"
        }
      },
      "outputs": [
        {
          "name": "stderr",
          "output_type": "stream",
          "text": [
            "/usr/local/lib/python3.7/dist-packages/ipykernel_launcher.py:6: UserWarning: `Model.fit_generator` is deprecated and will be removed in a future version. Please use `Model.fit`, which supports generators.\n",
            "  \n"
          ]
        },
        {
          "name": "stdout",
          "output_type": "stream",
          "text": [
            "Epoch 1/20\n",
            "411/411 [==============================] - ETA: 0s - loss: 0.1263 - accuracy: 0.9446 - weighted_accuracy: 0.9446\n",
            "Epoch 00001: val_loss improved from 0.17997 to 0.13333, saving model to /content/drive/MyDrive/Machi/Clear_Pong_style_weigth.h5\n",
            "411/411 [==============================] - 59s 141ms/step - loss: 0.1263 - accuracy: 0.9446 - weighted_accuracy: 0.9446 - val_loss: 0.1333 - val_accuracy: 0.9419 - val_weighted_accuracy: 0.9419\n",
            "Epoch 2/20\n",
            "411/411 [==============================] - ETA: 0s - loss: 0.1220 - accuracy: 0.9458 - weighted_accuracy: 0.9458\n",
            "Epoch 00002: val_loss improved from 0.13333 to 0.11917, saving model to /content/drive/MyDrive/Machi/Clear_Pong_style_weigth.h5\n",
            "411/411 [==============================] - 58s 141ms/step - loss: 0.1220 - accuracy: 0.9458 - weighted_accuracy: 0.9458 - val_loss: 0.1192 - val_accuracy: 0.9456 - val_weighted_accuracy: 0.9456\n",
            "Epoch 3/20\n",
            "411/411 [==============================] - ETA: 0s - loss: 0.1214 - accuracy: 0.9464 - weighted_accuracy: 0.9464\n",
            "Epoch 00003: val_loss did not improve from 0.11917\n",
            "411/411 [==============================] - 57s 139ms/step - loss: 0.1214 - accuracy: 0.9464 - weighted_accuracy: 0.9464 - val_loss: 0.1225 - val_accuracy: 0.9448 - val_weighted_accuracy: 0.9448\n",
            "Epoch 4/20\n",
            "411/411 [==============================] - ETA: 0s - loss: 0.1197 - accuracy: 0.9471 - weighted_accuracy: 0.9471\n",
            "Epoch 00004: val_loss did not improve from 0.11917\n",
            "411/411 [==============================] - 57s 138ms/step - loss: 0.1197 - accuracy: 0.9471 - weighted_accuracy: 0.9471 - val_loss: 0.1268 - val_accuracy: 0.9453 - val_weighted_accuracy: 0.9453\n",
            "Epoch 5/20\n",
            "411/411 [==============================] - ETA: 0s - loss: 0.1207 - accuracy: 0.9465 - weighted_accuracy: 0.9465\n",
            "Epoch 00005: val_loss improved from 0.11917 to 0.11850, saving model to /content/drive/MyDrive/Machi/Clear_Pong_style_weigth.h5\n",
            "411/411 [==============================] - 58s 140ms/step - loss: 0.1207 - accuracy: 0.9465 - weighted_accuracy: 0.9465 - val_loss: 0.1185 - val_accuracy: 0.9503 - val_weighted_accuracy: 0.9503\n",
            "Epoch 6/20\n",
            "411/411 [==============================] - ETA: 0s - loss: 0.1170 - accuracy: 0.9487 - weighted_accuracy: 0.9487\n",
            "Epoch 00006: val_loss did not improve from 0.11850\n",
            "411/411 [==============================] - 57s 139ms/step - loss: 0.1170 - accuracy: 0.9487 - weighted_accuracy: 0.9487 - val_loss: 0.1256 - val_accuracy: 0.9444 - val_weighted_accuracy: 0.9444\n",
            "Epoch 7/20\n",
            "411/411 [==============================] - ETA: 0s - loss: 0.1172 - accuracy: 0.9478 - weighted_accuracy: 0.9478\n",
            "Epoch 00007: val_loss did not improve from 0.11850\n",
            "411/411 [==============================] - 57s 139ms/step - loss: 0.1172 - accuracy: 0.9478 - weighted_accuracy: 0.9478 - val_loss: 0.1301 - val_accuracy: 0.9428 - val_weighted_accuracy: 0.9428\n",
            "Epoch 8/20\n",
            "411/411 [==============================] - ETA: 0s - loss: 0.1173 - accuracy: 0.9491 - weighted_accuracy: 0.9491\n",
            "Epoch 00008: val_loss improved from 0.11850 to 0.11754, saving model to /content/drive/MyDrive/Machi/Clear_Pong_style_weigth.h5\n",
            "411/411 [==============================] - 58s 140ms/step - loss: 0.1173 - accuracy: 0.9491 - weighted_accuracy: 0.9491 - val_loss: 0.1175 - val_accuracy: 0.9498 - val_weighted_accuracy: 0.9498\n",
            "Epoch 9/20\n",
            "411/411 [==============================] - ETA: 0s - loss: 0.1198 - accuracy: 0.9468 - weighted_accuracy: 0.9468\n",
            "Epoch 00009: val_loss did not improve from 0.11754\n",
            "411/411 [==============================] - 57s 139ms/step - loss: 0.1198 - accuracy: 0.9468 - weighted_accuracy: 0.9468 - val_loss: 0.1218 - val_accuracy: 0.9471 - val_weighted_accuracy: 0.9471\n",
            "Epoch 10/20\n",
            "411/411 [==============================] - ETA: 0s - loss: 0.1147 - accuracy: 0.9487 - weighted_accuracy: 0.9487\n",
            "Epoch 00010: val_loss did not improve from 0.11754\n",
            "411/411 [==============================] - 58s 140ms/step - loss: 0.1147 - accuracy: 0.9487 - weighted_accuracy: 0.9487 - val_loss: 0.1229 - val_accuracy: 0.9475 - val_weighted_accuracy: 0.9475\n",
            "Epoch 11/20\n",
            "411/411 [==============================] - ETA: 0s - loss: 0.1164 - accuracy: 0.9497 - weighted_accuracy: 0.9497\n",
            "Epoch 00011: val_loss improved from 0.11754 to 0.11280, saving model to /content/drive/MyDrive/Machi/Clear_Pong_style_weigth.h5\n",
            "411/411 [==============================] - 58s 141ms/step - loss: 0.1164 - accuracy: 0.9497 - weighted_accuracy: 0.9497 - val_loss: 0.1128 - val_accuracy: 0.9514 - val_weighted_accuracy: 0.9514\n",
            "Epoch 12/20\n",
            "411/411 [==============================] - ETA: 0s - loss: 0.1146 - accuracy: 0.9501 - weighted_accuracy: 0.9501\n",
            "Epoch 00012: val_loss did not improve from 0.11280\n",
            "411/411 [==============================] - 58s 140ms/step - loss: 0.1146 - accuracy: 0.9501 - weighted_accuracy: 0.9501 - val_loss: 0.1185 - val_accuracy: 0.9483 - val_weighted_accuracy: 0.9483\n",
            "Epoch 13/20\n",
            "411/411 [==============================] - ETA: 0s - loss: 0.1136 - accuracy: 0.9494 - weighted_accuracy: 0.9494\n",
            "Epoch 00013: val_loss did not improve from 0.11280\n",
            "411/411 [==============================] - 58s 141ms/step - loss: 0.1136 - accuracy: 0.9494 - weighted_accuracy: 0.9494 - val_loss: 0.1155 - val_accuracy: 0.9507 - val_weighted_accuracy: 0.9507\n",
            "Epoch 14/20\n",
            "411/411 [==============================] - ETA: 0s - loss: 0.1155 - accuracy: 0.9493 - weighted_accuracy: 0.9493\n",
            "Epoch 00014: val_loss did not improve from 0.11280\n",
            "411/411 [==============================] - 58s 141ms/step - loss: 0.1155 - accuracy: 0.9493 - weighted_accuracy: 0.9493 - val_loss: 0.1159 - val_accuracy: 0.9485 - val_weighted_accuracy: 0.9485\n",
            "Epoch 15/20\n",
            "411/411 [==============================] - ETA: 0s - loss: 0.1151 - accuracy: 0.9486 - weighted_accuracy: 0.9486\n",
            "Epoch 00015: val_loss did not improve from 0.11280\n",
            "411/411 [==============================] - 58s 141ms/step - loss: 0.1151 - accuracy: 0.9486 - weighted_accuracy: 0.9486 - val_loss: 0.1210 - val_accuracy: 0.9453 - val_weighted_accuracy: 0.9453\n",
            "Epoch 16/20\n",
            "411/411 [==============================] - ETA: 0s - loss: 0.1146 - accuracy: 0.9498 - weighted_accuracy: 0.9498\n",
            "Epoch 00016: val_loss did not improve from 0.11280\n",
            "411/411 [==============================] - 60s 147ms/step - loss: 0.1146 - accuracy: 0.9498 - weighted_accuracy: 0.9498 - val_loss: 0.1280 - val_accuracy: 0.9434 - val_weighted_accuracy: 0.9434\n"
          ]
        }
      ],
      "source": [
        "# Fit the model\n",
        "history = model.fit_generator(train_gen, \n",
        "                              epochs = epochs, \n",
        "                              \n",
        "                              validation_data = val_gen,\n",
        "                              callbacks=callbacks_list)\n",
        "\n",
        "# poch 00011: val_loss improved from 0.11754 to 0.11280, saving model to /content/drive/MyDrive/Machi/Clear_Pong_style_weigth.h5\n",
        "# 411/411 [==============================] - 58s 141ms/step - loss: 0.1164 - accuracy: 0.9497 - weighted_accuracy: 0.9497 - val_loss: 0.1128 - val_accuracy: 0.9514 - val_weighted_accuracy: 0.9514"
      ]
    },
    {
      "cell_type": "markdown",
      "metadata": {
        "id": "RjEuYD5hjIvG"
      },
      "source": [
        "#Prediction\n"
      ]
    },
    {
      "cell_type": "code",
      "execution_count": null,
      "metadata": {
        "id": "n5C0aFlCkYbz",
        "vscode": {
          "languageId": "python"
        }
      },
      "outputs": [],
      "source": [
        "import pandas as pd\n",
        "import os\n",
        "from tqdm import tqdm\n",
        "import cv2\n",
        "import numpy as np"
      ]
    },
    {
      "cell_type": "code",
      "execution_count": null,
      "metadata": {
        "id": "OSCKLh5H70q2",
        "vscode": {
          "languageId": "python"
        }
      },
      "outputs": [],
      "source": [
        "testdir = '/content/test0/crop/'"
      ]
    },
    {
      "cell_type": "code",
      "execution_count": null,
      "metadata": {
        "colab": {
          "base_uri": "https://localhost:8080/"
        },
        "id": "tP4HzlT471-2",
        "outputId": "7dd23405-625a-4d7d-9b1d-bd9e5695c5ea",
        "vscode": {
          "languageId": "python"
        }
      },
      "outputs": [
        {
          "name": "stdout",
          "output_type": "stream",
          "text": [
            "47746\n"
          ]
        }
      ],
      "source": [
        "print(len(os.listdir(testdir)))"
      ]
    },
    {
      "cell_type": "code",
      "execution_count": null,
      "metadata": {
        "id": "onIYxt_b7k02",
        "vscode": {
          "languageId": "python"
        }
      },
      "outputs": [],
      "source": [
        "AllparentId = []\n",
        "AllPredicted = []"
      ]
    },
    {
      "cell_type": "code",
      "execution_count": null,
      "metadata": {
        "id": "8r1o4SOWmVCb",
        "vscode": {
          "languageId": "python"
        }
      },
      "outputs": [],
      "source": [
        "from tensorflow import keras\n",
        "from keras.preprocessing import image\n",
        "model = keras.models.load_model('/content/drive/MyDrive/Machi/AppMan/Clear_Pong_style_weigth.h5')"
      ]
    },
    {
      "cell_type": "code",
      "execution_count": null,
      "metadata": {
        "id": "_3zFHlsUr03r",
        "vscode": {
          "languageId": "python"
        }
      },
      "outputs": [],
      "source": [
        "def predict(path):\n",
        "  predictions = []\n",
        "  parentId = []\n",
        "  for item in tqdm(os.listdir(path)[0:10]):\n",
        "\n",
        "    img = image.load_img(testdir + item, grayscale=True)\n",
        "    img = img.crop((0,0,112,28))\n",
        "\n",
        "    ## Convert the Image object into a numpy array\n",
        "    img = image.img_to_array(img)\n",
        "\n",
        "    ## Add to a list of images and classes\n",
        "    # x_test.append(img)\n",
        "\n",
        "    # img = cv2.imread(testdir + item)\n",
        "    # img = cv2.resize(img ,(105,105))\n",
        "    \n",
        "    # testimg = np.array(img)\n",
        "    testimg = img.astype('float32')\n",
        "    testimg /= 255\n",
        "    rimg = np.reshape(testimg ,(1,28,112,1))\n",
        "    predict = model.predict(rimg)\n",
        "    label = ['normal-bold', 'italic-bold', 'normal-normal', 'italic-normal']\n",
        "    # predict = model.predict(testimg)\n",
        "    result = label[np.argmax(predict)]\n",
        "    predictions.append(result)\n",
        "    parentId.append(item.split(\".\")[0]+\"_style-weight\")\n",
        "    # print(result)\n",
        "            \n",
        "  return parentId, predictions"
      ]
    },
    {
      "cell_type": "code",
      "execution_count": null,
      "metadata": {
        "colab": {
          "base_uri": "https://localhost:8080/"
        },
        "id": "5XkC1dV3rPrZ",
        "outputId": "ce4a1ce1-0a8e-4d9e-d767-856794067faa",
        "vscode": {
          "languageId": "python"
        }
      },
      "outputs": [
        {
          "name": "stderr",
          "output_type": "stream",
          "text": [
            "  0%|          | 0/10 [00:00<?, ?it/s]/usr/local/lib/python3.7/dist-packages/keras_preprocessing/image/utils.py:107: UserWarning: grayscale is deprecated. Please use color_mode = \"grayscale\"\n",
            "  warnings.warn('grayscale is deprecated. Please use '\n",
            "100%|██████████| 10/10 [00:00<00:00, 16.48it/s]\n"
          ]
        }
      ],
      "source": [
        "parentId, pred = predict(testdir)"
      ]
    },
    {
      "cell_type": "code",
      "execution_count": null,
      "metadata": {
        "colab": {
          "base_uri": "https://localhost:8080/"
        },
        "id": "nYJBhqu98HUl",
        "outputId": "7b9623e3-4ec1-4830-b228-fbe1e9bb3aa5",
        "vscode": {
          "languageId": "python"
        }
      },
      "outputs": [
        {
          "data": {
            "text/plain": [
              "['normal-normal',\n",
              " 'italic-normal',\n",
              " 'normal-normal',\n",
              " 'normal-normal',\n",
              " 'normal-normal',\n",
              " 'italic-normal',\n",
              " 'normal-normal',\n",
              " 'italic-normal',\n",
              " 'italic-normal',\n",
              " 'normal-normal']"
            ]
          },
          "execution_count": 25,
          "metadata": {},
          "output_type": "execute_result"
        }
      ],
      "source": [
        "pred"
      ]
    },
    {
      "cell_type": "code",
      "execution_count": null,
      "metadata": {
        "colab": {
          "base_uri": "https://localhost:8080/",
          "height": 244
        },
        "id": "9EjqWdixkgEw",
        "outputId": "3efbce9d-2d2a-423f-fa92-4a532e47fa73",
        "vscode": {
          "languageId": "python"
        }
      },
      "outputs": [
        {
          "name": "stderr",
          "output_type": "stream",
          "text": [
            "  0%|          | 0/10 [00:00<?, ?it/s]\n"
          ]
        },
        {
          "ename": "NameError",
          "evalue": "ignored",
          "output_type": "error",
          "traceback": [
            "\u001b[0;31m---------------------------------------------------------------------------\u001b[0m",
            "\u001b[0;31mNameError\u001b[0m                                 Traceback (most recent call last)",
            "\u001b[0;32m<ipython-input-24-f8e95d78104e>\u001b[0m in \u001b[0;36m<module>\u001b[0;34m()\u001b[0m\n\u001b[1;32m      1\u001b[0m \u001b[0;32mfor\u001b[0m \u001b[0mi\u001b[0m \u001b[0;32min\u001b[0m \u001b[0mtqdm\u001b[0m\u001b[0;34m(\u001b[0m\u001b[0mrange\u001b[0m\u001b[0;34m(\u001b[0m\u001b[0mlen\u001b[0m\u001b[0;34m(\u001b[0m\u001b[0mparentId\u001b[0m\u001b[0;34m)\u001b[0m\u001b[0;34m)\u001b[0m\u001b[0;34m)\u001b[0m\u001b[0;34m:\u001b[0m\u001b[0;34m\u001b[0m\u001b[0;34m\u001b[0m\u001b[0m\n\u001b[0;32m----> 2\u001b[0;31m     \u001b[0midx\u001b[0m \u001b[0;34m=\u001b[0m \u001b[0morigin_submit\u001b[0m\u001b[0;34m[\u001b[0m\u001b[0;34m'Id'\u001b[0m\u001b[0;34m]\u001b[0m\u001b[0;34m.\u001b[0m\u001b[0mloc\u001b[0m\u001b[0;34m[\u001b[0m\u001b[0;32mlambda\u001b[0m \u001b[0mx\u001b[0m\u001b[0;34m:\u001b[0m \u001b[0mx\u001b[0m\u001b[0;34m==\u001b[0m\u001b[0mstr\u001b[0m\u001b[0;34m(\u001b[0m\u001b[0mparentId\u001b[0m\u001b[0;34m[\u001b[0m\u001b[0mi\u001b[0m\u001b[0;34m]\u001b[0m\u001b[0;34m)\u001b[0m\u001b[0;34m]\u001b[0m\u001b[0;34m.\u001b[0m\u001b[0mindex\u001b[0m\u001b[0;34m\u001b[0m\u001b[0;34m\u001b[0m\u001b[0m\n\u001b[0m\u001b[1;32m      3\u001b[0m     \u001b[0;31m# print(idx[0])\u001b[0m\u001b[0;34m\u001b[0m\u001b[0;34m\u001b[0m\u001b[0;34m\u001b[0m\u001b[0m\n\u001b[1;32m      4\u001b[0m     \u001b[0morigin_submit\u001b[0m\u001b[0;34m[\u001b[0m\u001b[0;34m'Predicted'\u001b[0m\u001b[0;34m]\u001b[0m\u001b[0;34m[\u001b[0m\u001b[0midx\u001b[0m\u001b[0;34m[\u001b[0m\u001b[0;36m0\u001b[0m\u001b[0;34m]\u001b[0m\u001b[0;34m]\u001b[0m \u001b[0;34m=\u001b[0m \u001b[0mpred\u001b[0m\u001b[0;34m[\u001b[0m\u001b[0mi\u001b[0m\u001b[0;34m]\u001b[0m\u001b[0;34m\u001b[0m\u001b[0;34m\u001b[0m\u001b[0m\n",
            "\u001b[0;31mNameError\u001b[0m: name 'origin_submit' is not defined"
          ]
        }
      ],
      "source": [
        "for i in tqdm(range(len(parentId))):\n",
        "    idx = origin_submit['Id'].loc[lambda x: x==str(parentId[i])].index\n",
        "    # print(idx[0])\n",
        "    origin_submit['Predicted'][idx[0]] = pred[i]"
      ]
    },
    {
      "cell_type": "code",
      "execution_count": null,
      "metadata": {
        "id": "WnlohHcN6Upq",
        "vscode": {
          "languageId": "python"
        }
      },
      "outputs": [],
      "source": [
        "origin_submit.to_csv('/content/drive/MyDrive/Machi/testSubmit.csv',index=False)"
      ]
    },
    {
      "cell_type": "code",
      "execution_count": null,
      "metadata": {
        "id": "jiuq7ahC6UlM",
        "vscode": {
          "languageId": "python"
        }
      },
      "outputs": [],
      "source": [
        "df = pd.DataFrame(list(zip(parentId, pred)),\n",
        "               columns =['Id', 'Predicted'])"
      ]
    },
    {
      "cell_type": "code",
      "execution_count": null,
      "metadata": {
        "id": "v5AJb4SR5iW5",
        "vscode": {
          "languageId": "python"
        }
      },
      "outputs": [],
      "source": []
    },
    {
      "cell_type": "code",
      "execution_count": null,
      "metadata": {
        "id": "WPmF-SHo_s9z",
        "vscode": {
          "languageId": "python"
        }
      },
      "outputs": [],
      "source": [
        "df.to_csv('/content/drive/MyDrive/Machi/Clear_weight-style_pong.csv',index=False)"
      ]
    },
    {
      "cell_type": "markdown",
      "metadata": {
        "id": "lZ4ik4loomIO"
      },
      "source": [
        "#Merge df\n"
      ]
    },
    {
      "cell_type": "code",
      "execution_count": null,
      "metadata": {
        "colab": {
          "base_uri": "https://localhost:8080/",
          "height": 261
        },
        "id": "Ioqz35mO_zYx",
        "outputId": "874021f8-a922-40e5-d954-87e4be7011a1",
        "vscode": {
          "languageId": "python"
        }
      },
      "outputs": [
        {
          "name": "stderr",
          "output_type": "stream",
          "text": [
            "/usr/local/lib/python3.7/dist-packages/IPython/core/interactiveshell.py:2882: DtypeWarning: Columns (1) have mixed types.Specify dtype option on import or set low_memory=False.\n",
            "  exec(code_obj, self.user_global_ns, self.user_ns)\n"
          ]
        },
        {
          "data": {
            "text/html": [
              "\n",
              "  <div id=\"df-17546f7b-f5be-4990-a6c1-9336a1e2c32b\">\n",
              "    <div class=\"colab-df-container\">\n",
              "      <div>\n",
              "<style scoped>\n",
              "    .dataframe tbody tr th:only-of-type {\n",
              "        vertical-align: middle;\n",
              "    }\n",
              "\n",
              "    .dataframe tbody tr th {\n",
              "        vertical-align: top;\n",
              "    }\n",
              "\n",
              "    .dataframe thead th {\n",
              "        text-align: right;\n",
              "    }\n",
              "</style>\n",
              "<table border=\"1\" class=\"dataframe\">\n",
              "  <thead>\n",
              "    <tr style=\"text-align: right;\">\n",
              "      <th></th>\n",
              "      <th>Id</th>\n",
              "      <th>Predicted</th>\n",
              "    </tr>\n",
              "  </thead>\n",
              "  <tbody>\n",
              "    <tr>\n",
              "      <th>0</th>\n",
              "      <td>b68ab614_name</td>\n",
              "      <td>TH_Chakra_Petch</td>\n",
              "    </tr>\n",
              "    <tr>\n",
              "      <th>1</th>\n",
              "      <td>b68ab614_file</td>\n",
              "      <td>TH Chakra Petch.ttf</td>\n",
              "    </tr>\n",
              "    <tr>\n",
              "      <th>2</th>\n",
              "      <td>b68ab614_size</td>\n",
              "      <td>24px</td>\n",
              "    </tr>\n",
              "    <tr>\n",
              "      <th>3</th>\n",
              "      <td>b68ab614_style-weight</td>\n",
              "      <td>italic-bold</td>\n",
              "    </tr>\n",
              "    <tr>\n",
              "      <th>4</th>\n",
              "      <td>2d3a3417_name</td>\n",
              "      <td>TH_Chakra_Petch</td>\n",
              "    </tr>\n",
              "  </tbody>\n",
              "</table>\n",
              "</div>\n",
              "      <button class=\"colab-df-convert\" onclick=\"convertToInteractive('df-17546f7b-f5be-4990-a6c1-9336a1e2c32b')\"\n",
              "              title=\"Convert this dataframe to an interactive table.\"\n",
              "              style=\"display:none;\">\n",
              "        \n",
              "  <svg xmlns=\"http://www.w3.org/2000/svg\" height=\"24px\"viewBox=\"0 0 24 24\"\n",
              "       width=\"24px\">\n",
              "    <path d=\"M0 0h24v24H0V0z\" fill=\"none\"/>\n",
              "    <path d=\"M18.56 5.44l.94 2.06.94-2.06 2.06-.94-2.06-.94-.94-2.06-.94 2.06-2.06.94zm-11 1L8.5 8.5l.94-2.06 2.06-.94-2.06-.94L8.5 2.5l-.94 2.06-2.06.94zm10 10l.94 2.06.94-2.06 2.06-.94-2.06-.94-.94-2.06-.94 2.06-2.06.94z\"/><path d=\"M17.41 7.96l-1.37-1.37c-.4-.4-.92-.59-1.43-.59-.52 0-1.04.2-1.43.59L10.3 9.45l-7.72 7.72c-.78.78-.78 2.05 0 2.83L4 21.41c.39.39.9.59 1.41.59.51 0 1.02-.2 1.41-.59l7.78-7.78 2.81-2.81c.8-.78.8-2.07 0-2.86zM5.41 20L4 18.59l7.72-7.72 1.47 1.35L5.41 20z\"/>\n",
              "  </svg>\n",
              "      </button>\n",
              "      \n",
              "  <style>\n",
              "    .colab-df-container {\n",
              "      display:flex;\n",
              "      flex-wrap:wrap;\n",
              "      gap: 12px;\n",
              "    }\n",
              "\n",
              "    .colab-df-convert {\n",
              "      background-color: #E8F0FE;\n",
              "      border: none;\n",
              "      border-radius: 50%;\n",
              "      cursor: pointer;\n",
              "      display: none;\n",
              "      fill: #1967D2;\n",
              "      height: 32px;\n",
              "      padding: 0 0 0 0;\n",
              "      width: 32px;\n",
              "    }\n",
              "\n",
              "    .colab-df-convert:hover {\n",
              "      background-color: #E2EBFA;\n",
              "      box-shadow: 0px 1px 2px rgba(60, 64, 67, 0.3), 0px 1px 3px 1px rgba(60, 64, 67, 0.15);\n",
              "      fill: #174EA6;\n",
              "    }\n",
              "\n",
              "    [theme=dark] .colab-df-convert {\n",
              "      background-color: #3B4455;\n",
              "      fill: #D2E3FC;\n",
              "    }\n",
              "\n",
              "    [theme=dark] .colab-df-convert:hover {\n",
              "      background-color: #434B5C;\n",
              "      box-shadow: 0px 1px 3px 1px rgba(0, 0, 0, 0.15);\n",
              "      filter: drop-shadow(0px 1px 2px rgba(0, 0, 0, 0.3));\n",
              "      fill: #FFFFFF;\n",
              "    }\n",
              "  </style>\n",
              "\n",
              "      <script>\n",
              "        const buttonEl =\n",
              "          document.querySelector('#df-17546f7b-f5be-4990-a6c1-9336a1e2c32b button.colab-df-convert');\n",
              "        buttonEl.style.display =\n",
              "          google.colab.kernel.accessAllowed ? 'block' : 'none';\n",
              "\n",
              "        async function convertToInteractive(key) {\n",
              "          const element = document.querySelector('#df-17546f7b-f5be-4990-a6c1-9336a1e2c32b');\n",
              "          const dataTable =\n",
              "            await google.colab.kernel.invokeFunction('convertToInteractive',\n",
              "                                                     [key], {});\n",
              "          if (!dataTable) return;\n",
              "\n",
              "          const docLinkHtml = 'Like what you see? Visit the ' +\n",
              "            '<a target=\"_blank\" href=https://colab.research.google.com/notebooks/data_table.ipynb>data table notebook</a>'\n",
              "            + ' to learn more about interactive tables.';\n",
              "          element.innerHTML = '';\n",
              "          dataTable['output_type'] = 'display_data';\n",
              "          await google.colab.output.renderOutput(dataTable, element);\n",
              "          const docLink = document.createElement('div');\n",
              "          docLink.innerHTML = docLinkHtml;\n",
              "          element.appendChild(docLink);\n",
              "        }\n",
              "      </script>\n",
              "    </div>\n",
              "  </div>\n",
              "  "
            ],
            "text/plain": [
              "                      Id            Predicted\n",
              "0          b68ab614_name      TH_Chakra_Petch\n",
              "1          b68ab614_file  TH Chakra Petch.ttf\n",
              "2          b68ab614_size                 24px\n",
              "3  b68ab614_style-weight          italic-bold\n",
              "4          2d3a3417_name      TH_Chakra_Petch"
            ]
          },
          "execution_count": 108,
          "metadata": {},
          "output_type": "execute_result"
        }
      ],
      "source": [
        "base_submission = pd.read_csv(\"/content/true_submition2.csv\")\n",
        "base_submission.head()"
      ]
    },
    {
      "cell_type": "code",
      "execution_count": null,
      "metadata": {
        "colab": {
          "base_uri": "https://localhost:8080/",
          "height": 206
        },
        "id": "TU77TVTro6hf",
        "outputId": "2dc6bc9d-e885-4355-b93f-d84702984d15",
        "vscode": {
          "languageId": "python"
        }
      },
      "outputs": [
        {
          "data": {
            "text/html": [
              "\n",
              "  <div id=\"df-c36af550-dc74-4486-b38b-d56bef1d6af3\">\n",
              "    <div class=\"colab-df-container\">\n",
              "      <div>\n",
              "<style scoped>\n",
              "    .dataframe tbody tr th:only-of-type {\n",
              "        vertical-align: middle;\n",
              "    }\n",
              "\n",
              "    .dataframe tbody tr th {\n",
              "        vertical-align: top;\n",
              "    }\n",
              "\n",
              "    .dataframe thead th {\n",
              "        text-align: right;\n",
              "    }\n",
              "</style>\n",
              "<table border=\"1\" class=\"dataframe\">\n",
              "  <thead>\n",
              "    <tr style=\"text-align: right;\">\n",
              "      <th></th>\n",
              "      <th>Id</th>\n",
              "      <th>Predicted</th>\n",
              "    </tr>\n",
              "  </thead>\n",
              "  <tbody>\n",
              "    <tr>\n",
              "      <th>0</th>\n",
              "      <td>b68ab614_name</td>\n",
              "      <td>TH_Chakra_Petch</td>\n",
              "    </tr>\n",
              "    <tr>\n",
              "      <th>1</th>\n",
              "      <td>b68ab614_file</td>\n",
              "      <td>TH Chakra Petch.ttf</td>\n",
              "    </tr>\n",
              "    <tr>\n",
              "      <th>2</th>\n",
              "      <td>b68ab614_size</td>\n",
              "      <td>24px</td>\n",
              "    </tr>\n",
              "    <tr>\n",
              "      <th>3</th>\n",
              "      <td>b68ab614_style-weight</td>\n",
              "      <td>italic-bold</td>\n",
              "    </tr>\n",
              "    <tr>\n",
              "      <th>4</th>\n",
              "      <td>2d3a3417_name</td>\n",
              "      <td>TH_Chakra_Petch</td>\n",
              "    </tr>\n",
              "  </tbody>\n",
              "</table>\n",
              "</div>\n",
              "      <button class=\"colab-df-convert\" onclick=\"convertToInteractive('df-c36af550-dc74-4486-b38b-d56bef1d6af3')\"\n",
              "              title=\"Convert this dataframe to an interactive table.\"\n",
              "              style=\"display:none;\">\n",
              "        \n",
              "  <svg xmlns=\"http://www.w3.org/2000/svg\" height=\"24px\"viewBox=\"0 0 24 24\"\n",
              "       width=\"24px\">\n",
              "    <path d=\"M0 0h24v24H0V0z\" fill=\"none\"/>\n",
              "    <path d=\"M18.56 5.44l.94 2.06.94-2.06 2.06-.94-2.06-.94-.94-2.06-.94 2.06-2.06.94zm-11 1L8.5 8.5l.94-2.06 2.06-.94-2.06-.94L8.5 2.5l-.94 2.06-2.06.94zm10 10l.94 2.06.94-2.06 2.06-.94-2.06-.94-.94-2.06-.94 2.06-2.06.94z\"/><path d=\"M17.41 7.96l-1.37-1.37c-.4-.4-.92-.59-1.43-.59-.52 0-1.04.2-1.43.59L10.3 9.45l-7.72 7.72c-.78.78-.78 2.05 0 2.83L4 21.41c.39.39.9.59 1.41.59.51 0 1.02-.2 1.41-.59l7.78-7.78 2.81-2.81c.8-.78.8-2.07 0-2.86zM5.41 20L4 18.59l7.72-7.72 1.47 1.35L5.41 20z\"/>\n",
              "  </svg>\n",
              "      </button>\n",
              "      \n",
              "  <style>\n",
              "    .colab-df-container {\n",
              "      display:flex;\n",
              "      flex-wrap:wrap;\n",
              "      gap: 12px;\n",
              "    }\n",
              "\n",
              "    .colab-df-convert {\n",
              "      background-color: #E8F0FE;\n",
              "      border: none;\n",
              "      border-radius: 50%;\n",
              "      cursor: pointer;\n",
              "      display: none;\n",
              "      fill: #1967D2;\n",
              "      height: 32px;\n",
              "      padding: 0 0 0 0;\n",
              "      width: 32px;\n",
              "    }\n",
              "\n",
              "    .colab-df-convert:hover {\n",
              "      background-color: #E2EBFA;\n",
              "      box-shadow: 0px 1px 2px rgba(60, 64, 67, 0.3), 0px 1px 3px 1px rgba(60, 64, 67, 0.15);\n",
              "      fill: #174EA6;\n",
              "    }\n",
              "\n",
              "    [theme=dark] .colab-df-convert {\n",
              "      background-color: #3B4455;\n",
              "      fill: #D2E3FC;\n",
              "    }\n",
              "\n",
              "    [theme=dark] .colab-df-convert:hover {\n",
              "      background-color: #434B5C;\n",
              "      box-shadow: 0px 1px 3px 1px rgba(0, 0, 0, 0.15);\n",
              "      filter: drop-shadow(0px 1px 2px rgba(0, 0, 0, 0.3));\n",
              "      fill: #FFFFFF;\n",
              "    }\n",
              "  </style>\n",
              "\n",
              "      <script>\n",
              "        const buttonEl =\n",
              "          document.querySelector('#df-c36af550-dc74-4486-b38b-d56bef1d6af3 button.colab-df-convert');\n",
              "        buttonEl.style.display =\n",
              "          google.colab.kernel.accessAllowed ? 'block' : 'none';\n",
              "\n",
              "        async function convertToInteractive(key) {\n",
              "          const element = document.querySelector('#df-c36af550-dc74-4486-b38b-d56bef1d6af3');\n",
              "          const dataTable =\n",
              "            await google.colab.kernel.invokeFunction('convertToInteractive',\n",
              "                                                     [key], {});\n",
              "          if (!dataTable) return;\n",
              "\n",
              "          const docLinkHtml = 'Like what you see? Visit the ' +\n",
              "            '<a target=\"_blank\" href=https://colab.research.google.com/notebooks/data_table.ipynb>data table notebook</a>'\n",
              "            + ' to learn more about interactive tables.';\n",
              "          element.innerHTML = '';\n",
              "          dataTable['output_type'] = 'display_data';\n",
              "          await google.colab.output.renderOutput(dataTable, element);\n",
              "          const docLink = document.createElement('div');\n",
              "          docLink.innerHTML = docLinkHtml;\n",
              "          element.appendChild(docLink);\n",
              "        }\n",
              "      </script>\n",
              "    </div>\n",
              "  </div>\n",
              "  "
            ],
            "text/plain": [
              "                      Id            Predicted\n",
              "0          b68ab614_name      TH_Chakra_Petch\n",
              "1          b68ab614_file  TH Chakra Petch.ttf\n",
              "2          b68ab614_size                 24px\n",
              "3  b68ab614_style-weight          italic-bold\n",
              "4          2d3a3417_name      TH_Chakra_Petch"
            ]
          },
          "execution_count": 109,
          "metadata": {},
          "output_type": "execute_result"
        }
      ],
      "source": [
        "new_submission = pd.read_csv(\"/content/drive/MyDrive/Machi/Clear_weight-style_pong.csv\")\n",
        "base_submission.head()"
      ]
    },
    {
      "cell_type": "code",
      "execution_count": null,
      "metadata": {
        "colab": {
          "base_uri": "https://localhost:8080/"
        },
        "id": "psFYcQPAo4HH",
        "outputId": "6d02e004-90d2-4303-efa7-ec02c379a495",
        "vscode": {
          "languageId": "python"
        }
      },
      "outputs": [
        {
          "name": "stderr",
          "output_type": "stream",
          "text": [
            "100%|██████████| 48251/48251 [19:55<00:00, 40.37it/s]\n"
          ]
        }
      ],
      "source": [
        "for i in tqdm(range(len(new_submission['Id']))):\n",
        "    idx = base_submission['Id'].loc[lambda x: x==str(new_submission['Id'][i])].index\n",
        "#     print(idx[0])\n",
        "    base_submission['Predicted'][idx[0]] = new_submission['Predicted'][i]"
      ]
    },
    {
      "cell_type": "code",
      "execution_count": null,
      "metadata": {
        "id": "v7XWyIhku7dG",
        "vscode": {
          "languageId": "python"
        }
      },
      "outputs": [],
      "source": [
        "base_submission.to_csv('Clear_Machi2_New_base_submission.csv',index=False)"
      ]
    },
    {
      "cell_type": "markdown",
      "metadata": {
        "id": "LEMRiFKRgLFA"
      },
      "source": [
        "#predict individual file\n"
      ]
    },
    {
      "cell_type": "code",
      "execution_count": null,
      "metadata": {
        "id": "_2kb6YeEgQoA",
        "vscode": {
          "languageId": "python"
        }
      },
      "outputs": [],
      "source": [
        "def predictSome(path):\n",
        "    c = 0\n",
        "  \n",
        "    predictions = []\n",
        "    parentId = []\n",
        "    c+=1\n",
        "    img = image.load_img(path, grayscale=True)\n",
        "    img = img.crop((0,0,112,28))\n",
        "\n",
        "    ## Convert the Image object into a numpy array\n",
        "    img = image.img_to_array(img)\n",
        "\n",
        "    ## Add to a list of images and classes\n",
        "    # x_test.append(img)\n",
        "\n",
        "    # img = cv2.imread(testdir + item)\n",
        "    # img = cv2.resize(img ,(105,105))\n",
        "    \n",
        "    # testimg = np.array(img)\n",
        "    testimg = img.astype('float32')\n",
        "    testimg /= 255\n",
        "    rimg = np.reshape(testimg ,(1,28,112,1))\n",
        "    predict = model.predict(rimg)\n",
        "    label = ['normal-bold', 'italic-bold', 'normal-normal', 'italic-normal']\n",
        "    result = label[np.argmax(predict)]\n",
        "    predictions.append(result)\n",
        "    parentId.append(path.split(\".\")[0])\n",
        "    \n",
        "    l = (path.split(\"_\")[-2] + \"-\" + path.split(\"_\")[-1]).split(\".\")[0]\n",
        "    print(result)\n",
        "    print(predict)\n",
        "    print('real:'+str(l))\n",
        "    print('predict:'+str(result))\n",
        "    \n",
        "            \n",
        "    return parentId, predictions"
      ]
    },
    {
      "cell_type": "code",
      "execution_count": null,
      "metadata": {
        "id": "VrzpZmfRkoLA",
        "vscode": {
          "languageId": "python"
        }
      },
      "outputs": [],
      "source": [
        "datapath = './data/font_fam/Angsana_New/'\n",
        "datadir = './data/font_fam/'"
      ]
    },
    {
      "cell_type": "code",
      "execution_count": null,
      "metadata": {
        "colab": {
          "base_uri": "https://localhost:8080/"
        },
        "id": "w4h_EBj9kqw2",
        "outputId": "055a9805-7693-432c-a51a-306ff4519272",
        "vscode": {
          "languageId": "python"
        }
      },
      "outputs": [
        {
          "name": "stderr",
          "output_type": "stream",
          "text": [
            "/usr/local/lib/python3.7/dist-packages/keras_preprocessing/image/utils.py:107: UserWarning: grayscale is deprecated. Please use color_mode = \"grayscale\"\n",
            "  warnings.warn('grayscale is deprecated. Please use '\n"
          ]
        },
        {
          "name": "stdout",
          "output_type": "stream",
          "text": [
            "normal-normal\n",
            "[[4.8719206e-01 1.0171854e-06 5.1280689e-01 6.5010248e-08]]\n",
            "real:normal-bold\n",
            "predict:normal-normal\n"
          ]
        }
      ],
      "source": [
        "parentId, predictions = predictSome(datapath + os.listdir(datapath)[456])"
      ]
    },
    {
      "cell_type": "code",
      "execution_count": null,
      "metadata": {
        "colab": {
          "base_uri": "https://localhost:8080/"
        },
        "id": "oCWHz1dNkr8O",
        "outputId": "a502479b-ae29-47d5-a2f3-3f333c2e01db",
        "vscode": {
          "languageId": "python"
        }
      },
      "outputs": [
        {
          "name": "stdout",
          "output_type": "stream",
          "text": [
            ">>>>>Kunlasatri<<<<<\n",
            "./data/font_fam/\n",
            "italic-normal\n",
            "[[0.0000000e+00 5.5063745e-29 8.3131566e-12 1.0000000e+00]]\n",
            "real:italic-normal\n",
            "predict:italic-normal\n",
            "\n",
            "\n",
            "./data/font_fam/\n",
            "normal-bold\n",
            "[[9.9999368e-01 5.8550835e-08 6.2638510e-06 5.6775925e-16]]\n",
            "real:normal-bold\n",
            "predict:normal-bold\n",
            "\n",
            "\n",
            "./data/font_fam/\n",
            "normal-normal\n",
            "[[1.4498589e-25 9.7407386e-31 9.9999988e-01 7.1780171e-08]]\n",
            "real:normal-normal\n",
            "predict:normal-normal\n",
            "\n",
            "\n",
            "./data/font_fam/\n"
          ]
        },
        {
          "name": "stderr",
          "output_type": "stream",
          "text": [
            "/usr/local/lib/python3.7/dist-packages/keras_preprocessing/image/utils.py:107: UserWarning: grayscale is deprecated. Please use color_mode = \"grayscale\"\n",
            "  warnings.warn('grayscale is deprecated. Please use '\n"
          ]
        },
        {
          "name": "stdout",
          "output_type": "stream",
          "text": [
            "italic-bold\n",
            "[[7.9841071e-16 9.9999988e-01 6.6775997e-21 1.1782207e-07]]\n",
            "real:italic-bold\n",
            "predict:italic-bold\n",
            "\n",
            "\n",
            "./data/font_fam/\n",
            "normal-bold\n",
            "[[9.9233937e-01 5.0903665e-12 7.6606455e-03 5.6567223e-17]]\n",
            "real:normal-bold\n",
            "predict:normal-bold\n",
            "\n",
            "\n",
            ">>>>>TH_Mali_Grade6<<<<<\n",
            "./data/font_fam/\n",
            "italic-bold\n",
            "[[1.4550087e-12 9.9999511e-01 2.0845971e-16 4.9071255e-06]]\n",
            "real:italic-bold\n",
            "predict:italic-bold\n",
            "\n",
            "\n",
            "./data/font_fam/\n",
            "normal-bold\n",
            "[[9.4382054e-01 5.4293178e-02 1.8355666e-03 5.0684688e-05]]\n",
            "real:normal-bold\n",
            "predict:normal-bold\n",
            "\n",
            "\n",
            "./data/font_fam/\n",
            "italic-bold\n",
            "[[2.7202042e-08 9.1893333e-01 8.8968930e-09 8.1066661e-02]]\n",
            "real:italic-bold\n",
            "predict:italic-bold\n",
            "\n",
            "\n",
            "./data/font_fam/\n",
            "normal-normal\n",
            "[[8.0223848e-11 1.8112944e-12 9.9359304e-01 6.4070141e-03]]\n",
            "real:normal-normal\n",
            "predict:normal-normal\n",
            "\n",
            "\n",
            "./data/font_fam/\n",
            "italic-normal\n",
            "[[2.2009596e-37 3.4800478e-30 1.3848679e-06 9.9999857e-01]]\n",
            "real:italic-normal\n",
            "predict:italic-normal\n",
            "\n",
            "\n",
            ">>>>>CORDIA<<<<<\n",
            "./data/font_fam/\n",
            "normal-normal\n",
            "[[1.3262306e-06 7.1897703e-11 9.9991322e-01 8.5508502e-05]]\n",
            "real:normal-normal\n",
            "predict:normal-normal\n",
            "\n",
            "\n",
            "./data/font_fam/\n",
            "italic-bold\n",
            "[[4.6557773e-04 9.9857736e-01 1.7256054e-06 9.5531897e-04]]\n",
            "real:italic-bold\n",
            "predict:italic-bold\n",
            "\n",
            "\n",
            "./data/font_fam/\n",
            "italic-normal\n",
            "[[5.5008667e-20 4.4952381e-01 1.1756624e-17 5.5047613e-01]]\n",
            "real:italic-bold\n",
            "predict:italic-normal\n",
            "\n",
            "\n",
            "./data/font_fam/\n",
            "italic-normal\n",
            "[[0.00304606 0.00503798 0.41224614 0.57966983]]\n",
            "real:normal-normal\n",
            "predict:italic-normal\n",
            "\n",
            "\n",
            "./data/font_fam/\n",
            "normal-bold\n",
            "[[9.9880230e-01 2.2442367e-07 1.1974322e-03 2.2739607e-11]]\n",
            "real:normal-bold\n",
            "predict:normal-bold\n",
            "\n",
            "\n",
            ">>>>>fonttintin<<<<<\n",
            "./data/font_fam/\n",
            "normal-bold\n",
            "[[9.9966633e-01 2.5407303e-07 3.3343220e-04 2.4409075e-12]]\n",
            "real:normal-bold\n",
            "predict:normal-bold\n",
            "\n",
            "\n",
            "./data/font_fam/\n",
            "italic-normal\n",
            "[[0.0000000e+00 3.4229798e-36 2.8100731e-23 1.0000000e+00]]\n",
            "real:italic-normal\n",
            "predict:italic-normal\n",
            "\n",
            "\n",
            "./data/font_fam/\n",
            "italic-bold\n",
            "[[2.1793392e-08 7.9667044e-01 2.2029853e-08 2.0332956e-01]]\n",
            "real:italic-bold\n",
            "predict:italic-bold\n",
            "\n",
            "\n",
            "./data/font_fam/\n",
            "italic-bold\n",
            "[[2.5749199e-12 9.9980074e-01 1.7012106e-16 1.9922736e-04]]\n",
            "real:italic-bold\n",
            "predict:italic-bold\n",
            "\n",
            "\n",
            "./data/font_fam/\n",
            "normal-normal\n",
            "[[4.2563248e-01 2.5775455e-08 5.7436746e-01 4.6144839e-09]]\n",
            "real:normal-bold\n",
            "predict:normal-normal\n",
            "\n",
            "\n",
            ">>>>>DM_Shining Star_Regular<<<<<\n",
            "./data/font_fam/\n",
            "normal-bold\n",
            "[[9.9999690e-01 9.4558317e-07 2.1095623e-06 9.4721513e-16]]\n",
            "real:normal-bold\n",
            "predict:normal-bold\n",
            "\n",
            "\n",
            "./data/font_fam/\n",
            "italic-bold\n",
            "[[0.17494996 0.31528255 0.20309657 0.30667096]]\n",
            "real:normal-bold\n",
            "predict:italic-bold\n",
            "\n",
            "\n",
            "./data/font_fam/\n",
            "normal-normal\n",
            "[[1.3216960e-14 1.2227914e-17 9.9964511e-01 3.5485506e-04]]\n",
            "real:normal-normal\n",
            "predict:normal-normal\n",
            "\n",
            "\n",
            "./data/font_fam/\n",
            "normal-bold\n",
            "[[0.75061184 0.00784505 0.24033841 0.0012047 ]]\n",
            "real:normal-bold\n",
            "predict:normal-bold\n",
            "\n",
            "\n",
            "./data/font_fam/\n",
            "italic-normal\n",
            "[[1.36468285e-11 1.26709804e-01 4.26370450e-09 8.73290181e-01]]\n",
            "real:italic-bold\n",
            "predict:italic-normal\n",
            "\n",
            "\n",
            ">>>>>FC_Knomphing_Regular<<<<<\n",
            "./data/font_fam/\n",
            "normal-normal\n",
            "[[1.6809847e-07 5.2753194e-11 9.9992263e-01 7.7250268e-05]]\n",
            "real:normal-normal\n",
            "predict:normal-normal\n",
            "\n",
            "\n",
            "./data/font_fam/\n",
            "italic-normal\n",
            "[[0.0000000e+00 7.1466536e-30 2.0415394e-28 1.0000000e+00]]\n",
            "real:italic-normal\n",
            "predict:italic-normal\n",
            "\n",
            "\n",
            "./data/font_fam/\n",
            "normal-bold\n",
            "[[9.9853206e-01 4.2929522e-13 1.4679647e-03 6.8188484e-19]]\n",
            "real:normal-bold\n",
            "predict:normal-bold\n",
            "\n",
            "\n",
            "./data/font_fam/\n",
            "italic-normal\n",
            "[[2.72141518e-30 3.84672281e-22 1.41842635e-08 1.00000000e+00]]\n",
            "real:italic-normal\n",
            "predict:italic-normal\n",
            "\n",
            "\n",
            "./data/font_fam/\n",
            "normal-normal\n",
            "[[6.1738971e-25 9.0516536e-34 1.0000000e+00 2.3307656e-12]]\n",
            "real:normal-normal\n",
            "predict:normal-normal\n",
            "\n",
            "\n",
            ">>>>>TH_Charm_of_AU<<<<<\n",
            "./data/font_fam/\n",
            "normal-bold\n",
            "[[9.9042046e-01 1.8484579e-06 9.5776794e-03 1.8071042e-10]]\n",
            "real:normal-bold\n",
            "predict:normal-bold\n",
            "\n",
            "\n",
            "./data/font_fam/\n",
            "normal-normal\n",
            "[[8.6804874e-25 2.8427374e-25 9.8461241e-01 1.5387635e-02]]\n",
            "real:normal-normal\n",
            "predict:normal-normal\n",
            "\n",
            "\n",
            "./data/font_fam/\n",
            "normal-bold\n",
            "[[9.9977070e-01 4.0851428e-06 2.2526739e-04 1.9834826e-11]]\n",
            "real:normal-bold\n",
            "predict:normal-bold\n",
            "\n",
            "\n",
            "./data/font_fam/\n",
            "normal-bold\n",
            "[[0.797623   0.13448527 0.06479952 0.00309219]]\n",
            "real:normal-bold\n",
            "predict:normal-bold\n",
            "\n",
            "\n",
            "./data/font_fam/\n",
            "italic-normal\n",
            "[[0.000000e+00 0.000000e+00 6.173569e-17 1.000000e+00]]\n",
            "real:italic-normal\n",
            "predict:italic-normal\n",
            "\n",
            "\n",
            ">>>>>THSarabun<<<<<\n",
            "./data/font_fam/\n",
            "italic-bold\n",
            "[[8.1448552e-13 1.0000000e+00 6.6150347e-19 1.6599794e-08]]\n",
            "real:italic-bold\n",
            "predict:italic-bold\n",
            "\n",
            "\n",
            "./data/font_fam/\n",
            "italic-normal\n",
            "[[1.2607098e-21 4.9141130e-12 4.4046718e-08 1.0000000e+00]]\n",
            "real:italic-normal\n",
            "predict:italic-normal\n",
            "\n",
            "\n",
            "./data/font_fam/\n",
            "normal-bold\n",
            "[[9.9325788e-01 5.7502975e-06 6.7362762e-03 3.4021670e-09]]\n",
            "real:normal-bold\n",
            "predict:normal-bold\n",
            "\n",
            "\n",
            "./data/font_fam/\n",
            "normal-normal\n",
            "[[7.0480991e-13 1.0166505e-16 9.9996579e-01 3.4244775e-05]]\n",
            "real:normal-normal\n",
            "predict:normal-normal\n",
            "\n",
            "\n",
            "./data/font_fam/\n",
            "normal-normal\n",
            "[[7.4753961e-34 0.0000000e+00 9.9999964e-01 4.0871751e-07]]\n",
            "real:normal-normal\n",
            "predict:normal-normal\n",
            "\n",
            "\n",
            ">>>>>Angsana_New<<<<<\n",
            "./data/font_fam/\n",
            "italic-normal\n",
            "[[5.0072046e-21 3.6912157e-17 1.0837307e-03 9.9891627e-01]]\n",
            "real:italic-normal\n",
            "predict:italic-normal\n",
            "\n",
            "\n",
            "./data/font_fam/\n",
            "italic-normal\n",
            "[[0.0000000e+00 2.0339812e-38 3.7631523e-10 1.0000000e+00]]\n",
            "real:italic-normal\n",
            "predict:italic-normal\n",
            "\n",
            "\n",
            "./data/font_fam/\n",
            "italic-normal\n",
            "[[9.8026643e-13 4.6048594e-08 2.9422881e-04 9.9970573e-01]]\n",
            "real:italic-normal\n",
            "predict:italic-normal\n",
            "\n",
            "\n",
            "./data/font_fam/\n",
            "italic-normal\n",
            "[[6.1183382e-27 4.4395419e-19 1.6609697e-06 9.9999833e-01]]\n",
            "real:italic-normal\n",
            "predict:italic-normal\n",
            "\n",
            "\n",
            "./data/font_fam/\n",
            "normal-bold\n",
            "[[9.7094303e-01 1.3878460e-08 2.9056918e-02 1.2568311e-12]]\n",
            "real:normal-bold\n",
            "predict:normal-bold\n",
            "\n",
            "\n",
            ">>>>>TH_Chakra_Petch<<<<<\n",
            "./data/font_fam/\n",
            "normal-normal\n",
            "[[6.0615335e-09 4.8463642e-13 9.9998069e-01 1.9358664e-05]]\n",
            "real:normal-normal\n",
            "predict:normal-normal\n",
            "\n",
            "\n",
            "./data/font_fam/\n",
            "normal-normal\n",
            "[[1.3206816e-02 4.1528038e-11 9.8679310e-01 2.2889737e-11]]\n",
            "real:normal-bold\n",
            "predict:normal-normal\n",
            "\n",
            "\n",
            "./data/font_fam/\n",
            "italic-normal\n",
            "[[0.0000000e+00 3.1754722e-23 6.3139306e-22 1.0000000e+00]]\n",
            "real:italic-normal\n",
            "predict:italic-normal\n",
            "\n",
            "\n",
            "./data/font_fam/\n",
            "italic-bold\n",
            "[[3.0413249e-15 1.0000000e+00 1.7552281e-23 3.0224917e-10]]\n",
            "real:italic-bold\n",
            "predict:italic-bold\n",
            "\n",
            "\n",
            "./data/font_fam/\n",
            "normal-bold\n",
            "[[7.3762035e-01 7.2992652e-06 2.6237193e-01 4.3645198e-07]]\n",
            "real:normal-bold\n",
            "predict:normal-bold\n",
            "\n",
            "\n"
          ]
        }
      ],
      "source": [
        "for path in(os.listdir(datadir)):\n",
        "    print(\">>>>>\"+str(path)+\"<<<<<\")\n",
        "    for i in range(5):\n",
        "        print(datadir)\n",
        "        a,b = predictSome(datadir+path+\"/\" + os.listdir(datadir+path)[i])\n",
        "#         parentId, predictions = predictSome(datadir + os.listdir(datadir+path)[i])\n",
        "        print(\"\\n\")"
      ]
    },
    {
      "cell_type": "markdown",
      "metadata": {
        "id": "QblAz8IQO3dA"
      },
      "source": [
        "#Predict-font-family-rule-base\n"
      ]
    },
    {
      "cell_type": "code",
      "execution_count": null,
      "metadata": {
        "id": "QXgXY42DQbIV",
        "vscode": {
          "languageId": "python"
        }
      },
      "outputs": [],
      "source": [
        "import pandas as pd\n",
        "import os\n",
        "from tqdm import tqdm\n",
        "import cv2\n",
        "import numpy as np"
      ]
    },
    {
      "cell_type": "code",
      "execution_count": null,
      "metadata": {
        "colab": {
          "base_uri": "https://localhost:8080/",
          "height": 261
        },
        "id": "yfy_ebc0QhrG",
        "outputId": "369da4bd-8b02-4219-d09f-0ee62c5bd73a",
        "vscode": {
          "languageId": "python"
        }
      },
      "outputs": [
        {
          "name": "stderr",
          "output_type": "stream",
          "text": [
            "/usr/local/lib/python3.7/dist-packages/IPython/core/interactiveshell.py:2882: DtypeWarning: Columns (1) have mixed types.Specify dtype option on import or set low_memory=False.\n",
            "  exec(code_obj, self.user_global_ns, self.user_ns)\n"
          ]
        },
        {
          "data": {
            "text/html": [
              "\n",
              "  <div id=\"df-9a919ae6-d2bf-434a-bd5d-9b7901e60518\">\n",
              "    <div class=\"colab-df-container\">\n",
              "      <div>\n",
              "<style scoped>\n",
              "    .dataframe tbody tr th:only-of-type {\n",
              "        vertical-align: middle;\n",
              "    }\n",
              "\n",
              "    .dataframe tbody tr th {\n",
              "        vertical-align: top;\n",
              "    }\n",
              "\n",
              "    .dataframe thead th {\n",
              "        text-align: right;\n",
              "    }\n",
              "</style>\n",
              "<table border=\"1\" class=\"dataframe\">\n",
              "  <thead>\n",
              "    <tr style=\"text-align: right;\">\n",
              "      <th></th>\n",
              "      <th>Id</th>\n",
              "      <th>Predicted</th>\n",
              "    </tr>\n",
              "  </thead>\n",
              "  <tbody>\n",
              "    <tr>\n",
              "      <th>0</th>\n",
              "      <td>b68ab614_name</td>\n",
              "      <td>TH_Chakra_Petch</td>\n",
              "    </tr>\n",
              "    <tr>\n",
              "      <th>1</th>\n",
              "      <td>b68ab614_file</td>\n",
              "      <td>TH Chakra Petch.ttf</td>\n",
              "    </tr>\n",
              "    <tr>\n",
              "      <th>2</th>\n",
              "      <td>b68ab614_size</td>\n",
              "      <td>24px</td>\n",
              "    </tr>\n",
              "    <tr>\n",
              "      <th>3</th>\n",
              "      <td>b68ab614_style-weight</td>\n",
              "      <td>normal-bold</td>\n",
              "    </tr>\n",
              "    <tr>\n",
              "      <th>4</th>\n",
              "      <td>2d3a3417_name</td>\n",
              "      <td>TH_Chakra_Petch</td>\n",
              "    </tr>\n",
              "  </tbody>\n",
              "</table>\n",
              "</div>\n",
              "      <button class=\"colab-df-convert\" onclick=\"convertToInteractive('df-9a919ae6-d2bf-434a-bd5d-9b7901e60518')\"\n",
              "              title=\"Convert this dataframe to an interactive table.\"\n",
              "              style=\"display:none;\">\n",
              "        \n",
              "  <svg xmlns=\"http://www.w3.org/2000/svg\" height=\"24px\"viewBox=\"0 0 24 24\"\n",
              "       width=\"24px\">\n",
              "    <path d=\"M0 0h24v24H0V0z\" fill=\"none\"/>\n",
              "    <path d=\"M18.56 5.44l.94 2.06.94-2.06 2.06-.94-2.06-.94-.94-2.06-.94 2.06-2.06.94zm-11 1L8.5 8.5l.94-2.06 2.06-.94-2.06-.94L8.5 2.5l-.94 2.06-2.06.94zm10 10l.94 2.06.94-2.06 2.06-.94-2.06-.94-.94-2.06-.94 2.06-2.06.94z\"/><path d=\"M17.41 7.96l-1.37-1.37c-.4-.4-.92-.59-1.43-.59-.52 0-1.04.2-1.43.59L10.3 9.45l-7.72 7.72c-.78.78-.78 2.05 0 2.83L4 21.41c.39.39.9.59 1.41.59.51 0 1.02-.2 1.41-.59l7.78-7.78 2.81-2.81c.8-.78.8-2.07 0-2.86zM5.41 20L4 18.59l7.72-7.72 1.47 1.35L5.41 20z\"/>\n",
              "  </svg>\n",
              "      </button>\n",
              "      \n",
              "  <style>\n",
              "    .colab-df-container {\n",
              "      display:flex;\n",
              "      flex-wrap:wrap;\n",
              "      gap: 12px;\n",
              "    }\n",
              "\n",
              "    .colab-df-convert {\n",
              "      background-color: #E8F0FE;\n",
              "      border: none;\n",
              "      border-radius: 50%;\n",
              "      cursor: pointer;\n",
              "      display: none;\n",
              "      fill: #1967D2;\n",
              "      height: 32px;\n",
              "      padding: 0 0 0 0;\n",
              "      width: 32px;\n",
              "    }\n",
              "\n",
              "    .colab-df-convert:hover {\n",
              "      background-color: #E2EBFA;\n",
              "      box-shadow: 0px 1px 2px rgba(60, 64, 67, 0.3), 0px 1px 3px 1px rgba(60, 64, 67, 0.15);\n",
              "      fill: #174EA6;\n",
              "    }\n",
              "\n",
              "    [theme=dark] .colab-df-convert {\n",
              "      background-color: #3B4455;\n",
              "      fill: #D2E3FC;\n",
              "    }\n",
              "\n",
              "    [theme=dark] .colab-df-convert:hover {\n",
              "      background-color: #434B5C;\n",
              "      box-shadow: 0px 1px 3px 1px rgba(0, 0, 0, 0.15);\n",
              "      filter: drop-shadow(0px 1px 2px rgba(0, 0, 0, 0.3));\n",
              "      fill: #FFFFFF;\n",
              "    }\n",
              "  </style>\n",
              "\n",
              "      <script>\n",
              "        const buttonEl =\n",
              "          document.querySelector('#df-9a919ae6-d2bf-434a-bd5d-9b7901e60518 button.colab-df-convert');\n",
              "        buttonEl.style.display =\n",
              "          google.colab.kernel.accessAllowed ? 'block' : 'none';\n",
              "\n",
              "        async function convertToInteractive(key) {\n",
              "          const element = document.querySelector('#df-9a919ae6-d2bf-434a-bd5d-9b7901e60518');\n",
              "          const dataTable =\n",
              "            await google.colab.kernel.invokeFunction('convertToInteractive',\n",
              "                                                     [key], {});\n",
              "          if (!dataTable) return;\n",
              "\n",
              "          const docLinkHtml = 'Like what you see? Visit the ' +\n",
              "            '<a target=\"_blank\" href=https://colab.research.google.com/notebooks/data_table.ipynb>data table notebook</a>'\n",
              "            + ' to learn more about interactive tables.';\n",
              "          element.innerHTML = '';\n",
              "          dataTable['output_type'] = 'display_data';\n",
              "          await google.colab.output.renderOutput(dataTable, element);\n",
              "          const docLink = document.createElement('div');\n",
              "          docLink.innerHTML = docLinkHtml;\n",
              "          element.appendChild(docLink);\n",
              "        }\n",
              "      </script>\n",
              "    </div>\n",
              "  </div>\n",
              "  "
            ],
            "text/plain": [
              "                      Id            Predicted\n",
              "0          b68ab614_name      TH_Chakra_Petch\n",
              "1          b68ab614_file  TH Chakra Petch.ttf\n",
              "2          b68ab614_size                 24px\n",
              "3  b68ab614_style-weight          normal-bold\n",
              "4          2d3a3417_name      TH_Chakra_Petch"
            ]
          },
          "execution_count": 3,
          "metadata": {},
          "output_type": "execute_result"
        }
      ],
      "source": [
        "origin_submit = pd.read_csv(\"/content/sample_submission.csv\")\n",
        "origin_submit.head()"
      ]
    },
    {
      "cell_type": "code",
      "execution_count": null,
      "metadata": {
        "colab": {
          "base_uri": "https://localhost:8080/"
        },
        "id": "2r9FtpKRQkuW",
        "outputId": "b5b1d970-3737-4cde-f7b4-3ef410859ff8",
        "vscode": {
          "languageId": "python"
        }
      },
      "outputs": [
        {
          "name": "stdout",
          "output_type": "stream",
          "text": [
            "<class 'pandas.core.frame.DataFrame'>\n",
            "RangeIndex: 383988 entries, 0 to 383987\n",
            "Data columns (total 2 columns):\n",
            " #   Column     Non-Null Count   Dtype \n",
            "---  ------     --------------   ----- \n",
            " 0   Id         383988 non-null  object\n",
            " 1   Predicted  12 non-null      object\n",
            "dtypes: object(2)\n",
            "memory usage: 5.9+ MB\n"
          ]
        }
      ],
      "source": [
        "origin_submit.info()"
      ]
    },
    {
      "cell_type": "code",
      "execution_count": null,
      "metadata": {
        "colab": {
          "base_uri": "https://localhost:8080/"
        },
        "id": "YYTvgsWpQr1Z",
        "outputId": "7ead151e-aa8d-4e77-ed39-b92ef65fd9d5",
        "vscode": {
          "languageId": "python"
        }
      },
      "outputs": [
        {
          "name": "stderr",
          "output_type": "stream",
          "text": [
            "/usr/local/lib/python3.7/dist-packages/IPython/core/interactiveshell.py:2882: DtypeWarning: Columns (1) have mixed types.Specify dtype option on import or set low_memory=False.\n",
            "  exec(code_obj, self.user_global_ns, self.user_ns)\n"
          ]
        }
      ],
      "source": [
        "predicted_csv = pd.read_csv(\"/content/sample_submission.csv\")"
      ]
    },
    {
      "cell_type": "code",
      "execution_count": null,
      "metadata": {
        "colab": {
          "base_uri": "https://localhost:8080/",
          "height": 131
        },
        "id": "Gfipt8kJTzko",
        "outputId": "61225261-004f-4210-d83b-07da4798291f",
        "vscode": {
          "languageId": "python"
        }
      },
      "outputs": [],
      "source": [
        "def decodePredict(num):\n",
        "  if(int(num) == 0): return \"Angsana_New\"\n",
        "  if(int(num) == 1): return \"Cordia_New\"\n",
        "  if(int(num) == 2): return \"DM_Shining_Star_Regular\"\n",
        "  if(int(num) == 3): return \"FC_Knomphing_Regular\"\n",
        "  if(int(num) == 4): return \"fonttintin\"\n",
        "  if(int(num) == 5): return \"Kunlasatri\"\n",
        "  if(int(num) == 6): return \"TH_Chakra_Petch\"\n",
        "  if(int(num) == 7): return \"TH_Charm_of_AU\"\n",
        "  if(int(num) == 8): return \"TH_Mali_Grade6\"\n",
        "  if(int(num) == 9): return \"TH_Sarabun\"\n",
        "  # 0 Angsana_New\n",
        "  # 1 Cordia_New\n",
        "  # 2 DM_Shining_Star_Regular\n",
        "  # 3 FC_Knomphing_Regular\n",
        "  # 4 fonttintin\n",
        "  # 5 Kunlasatri\n",
        "  # 6 TH_Chakra_Petch\n",
        "  # 7 TH_Charm_of_AU\n",
        "  # 8 TH_Mali_Grade6\n",
        "  # 9 TH_Sarabun"
      ]
    },
    {
      "cell_type": "code",
      "execution_count": null,
      "metadata": {
        "id": "Zphg3hY_Q1Yd",
        "vscode": {
          "languageId": "python"
        }
      },
      "outputs": [],
      "source": [
        "for i in tqdm(range(len(predicted_csv['parentId']))):\n",
        "    idx = origin_submit['Id'].loc[lambda x: x==str(predicted_csv[i])+\"_name\"].index\n",
        "    # print(idx[0])\n",
        "    origin_submit['Predicted'][idx[0]] = predicted_csv['prediction']\n",
        "    origin_submit['Predicted'][idx[0]+1] = str(predicted_csv['prediction'])+\".ttf\""
      ]
    }
  ],
  "metadata": {
    "colab": {
      "collapsed_sections": [],
      "name": "Best_style-weight_Imgdatagen_Modify_Appman_cnn.ipynb",
      "provenance": []
    },
    "kernelspec": {
      "display_name": "Python 3",
      "name": "python3"
    }
  },
  "nbformat": 4,
  "nbformat_minor": 0
}
