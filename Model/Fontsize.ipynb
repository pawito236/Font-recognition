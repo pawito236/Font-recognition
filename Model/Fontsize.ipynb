{
  "cells": [
    {
      "cell_type": "markdown",
      "metadata": {
        "id": "ivjUKa-RrtD2"
      },
      "source": [
        "CNN-Image classify"
      ]
    },
    {
      "cell_type": "code",
      "execution_count": 1,
      "metadata": {
        "execution": {
          "iopub.execute_input": "2022-02-11T01:00:22.664728Z",
          "iopub.status.busy": "2022-02-11T01:00:22.664022Z",
          "iopub.status.idle": "2022-02-11T01:00:27.136337Z",
          "shell.execute_reply": "2022-02-11T01:00:27.135627Z",
          "shell.execute_reply.started": "2022-02-11T01:00:22.664630Z"
        },
        "id": "uRdUlLNepjRF",
        "trusted": true
      },
      "outputs": [],
      "source": [
        "import tensorflow as tf"
      ]
    },
    {
      "cell_type": "code",
      "execution_count": 2,
      "metadata": {
        "execution": {
          "iopub.execute_input": "2022-02-11T01:00:27.140590Z",
          "iopub.status.busy": "2022-02-11T01:00:27.140378Z",
          "iopub.status.idle": "2022-02-11T01:00:28.090093Z",
          "shell.execute_reply": "2022-02-11T01:00:28.089338Z",
          "shell.execute_reply.started": "2022-02-11T01:00:27.140565Z"
        },
        "id": "AdYjPZFFWk6h",
        "trusted": true
      },
      "outputs": [],
      "source": [
        "import numpy as np\n",
        "import cv2\n",
        "import os\n",
        "from tqdm import tqdm\n",
        "import keras\n",
        "from keras.models import Sequential\n",
        "from keras.layers import Dense, Dropout, Activation, Flatten\n",
        "from keras.layers import Conv2D, MaxPooling2D\n",
        "import random\n",
        "import tensorflow"
      ]
    },
    {
      "cell_type": "code",
      "execution_count": 3,
      "metadata": {
        "execution": {
          "iopub.execute_input": "2022-02-11T01:00:28.093274Z",
          "iopub.status.busy": "2022-02-11T01:00:28.091462Z",
          "iopub.status.idle": "2022-02-11T01:00:28.096500Z",
          "shell.execute_reply": "2022-02-11T01:00:28.095878Z",
          "shell.execute_reply.started": "2022-02-11T01:00:28.093233Z"
        },
        "id": "HAAcEz-lWxFQ",
        "trusted": true
      },
      "outputs": [],
      "source": [
        "from os import listdir\n",
        "from os.path import isfile, join"
      ]
    },
    {
      "cell_type": "code",
      "execution_count": 4,
      "metadata": {
        "execution": {
          "iopub.execute_input": "2022-02-11T01:00:28.099012Z",
          "iopub.status.busy": "2022-02-11T01:00:28.098545Z",
          "iopub.status.idle": "2022-02-11T01:00:28.940898Z",
          "shell.execute_reply": "2022-02-11T01:00:28.940231Z",
          "shell.execute_reply.started": "2022-02-11T01:00:28.098966Z"
        },
        "id": "xDi4ekhlSZVE",
        "trusted": true
      },
      "outputs": [],
      "source": [
        "from matplotlib.pyplot import imshow\n",
        "import matplotlib.cm as cm\n",
        "import matplotlib.pylab as plt\n",
        "from keras.preprocessing.image import ImageDataGenerator\n",
        "import numpy as np\n",
        "import PIL\n",
        "from PIL import ImageFilter\n",
        "import cv2\n",
        "import itertools\n",
        "import random\n",
        "import keras\n",
        "# import imutils\n",
        "# from imutils import paths\n",
        "import os\n",
        "from keras import optimizers\n",
        "from keras.preprocessing.image import img_to_array\n",
        "from sklearn.model_selection import train_test_split\n",
        "# from keras.utils import to_categorical\n",
        "from keras import callbacks\n",
        "from keras.models import Sequential\n",
        "from tensorflow.keras.layers import BatchNormalization\n",
        "from keras.layers import Dense, Dropout, Flatten\n",
        "from keras.layers import Conv2D, MaxPooling2D , UpSampling2D ,Conv2DTranspose\n",
        "from keras import backend as K\n",
        "\n",
        "%matplotlib inline"
      ]
    },
    {
      "cell_type": "code",
      "execution_count": 5,
      "metadata": {
        "execution": {
          "iopub.execute_input": "2022-02-11T01:00:28.942404Z",
          "iopub.status.busy": "2022-02-11T01:00:28.942159Z",
          "iopub.status.idle": "2022-02-11T01:00:28.957084Z",
          "shell.execute_reply": "2022-02-11T01:00:28.956425Z",
          "shell.execute_reply.started": "2022-02-11T01:00:28.942371Z"
        },
        "id": "WsfDb6MhxEUf",
        "trusted": true
      },
      "outputs": [],
      "source": [
        "import numpy as np # linear algebra\n",
        "import pandas as pd # data processing, CSV file I/O (e.g. pd.read_csv)\n",
        "import matplotlib.pyplot as plt\n",
        "import matplotlib.image as mpimg\n",
        "%matplotlib inline\n",
        "\n",
        "import tensorflow as tf\n",
        "from tensorflow.keras.preprocessing.image import ImageDataGenerator\n",
        "from tensorflow.keras.preprocessing.image import img_to_array, load_img\n",
        "from tensorflow.keras.utils import to_categorical\n",
        "from tensorflow.keras.layers import Reshape, Flatten\n",
        "\n",
        "import random\n",
        "import os"
      ]
    },
    {
      "cell_type": "code",
      "execution_count": null,
      "metadata": {
        "execution": {
          "iopub.execute_input": "2022-02-11T01:02:04.858501Z",
          "iopub.status.busy": "2022-02-11T01:02:04.857810Z",
          "iopub.status.idle": "2022-02-11T01:02:04.945793Z",
          "shell.execute_reply": "2022-02-11T01:02:04.945097Z",
          "shell.execute_reply.started": "2022-02-11T01:02:04.858463Z"
        },
        "id": "sFSWG8oyWzO4",
        "trusted": true
      },
      "outputs": [],
      "source": [
        "width = 64\n",
        "num_classes = 10\n",
        "trainpath = './font_fam/'\n",
        "testpath = './font_fam/'\n",
        "print(listdir(trainpath))\n",
        "trainImg = [trainpath+f for f in listdir(trainpath) if listdir(join(trainpath, f))]\n",
        "testImg = [testpath+f for f in listdir(testpath) if listdir(join(testpath, f))]"
      ]
    },
    {
      "cell_type": "code",
      "execution_count": null,
      "metadata": {
        "execution": {
          "iopub.execute_input": "2022-02-11T01:02:13.287775Z",
          "iopub.status.busy": "2022-02-11T01:02:13.287342Z",
          "iopub.status.idle": "2022-02-11T01:02:13.307725Z",
          "shell.execute_reply": "2022-02-11T01:02:13.306796Z",
          "shell.execute_reply.started": "2022-02-11T01:02:13.287743Z"
        },
        "id": "_Xj4DrptCba8",
        "trusted": true
      },
      "outputs": [],
      "source": [
        "from keras.preprocessing import image\n",
        "import random\n",
        "def img2dataTrainTest(path, trainsize=0.8, testsizze = 0.2):\n",
        "  rawImgs = []\n",
        "  labels = []\n",
        "  x_train= [] \n",
        "  y_train= [] \n",
        "  x_test= [] \n",
        "  y_test = []\n",
        "  c = 0\n",
        "  samp = 0\n",
        "  for imagePath in (path):\n",
        "\n",
        "      for item in tqdm(os.listdir(imagePath)):\n",
        "          file = os.path.join(imagePath, item)\n",
        "          # print(item)\n",
        "          RAND = random.random()\n",
        "\n",
        "          if(RAND < trainsize):\n",
        "            l = item.split(\"_\")[2]\n",
        "            # print(l)\n",
        "            # print(file.index(\"x\"))\n",
        "            l = file[file.index(\"x\")-3:file.index(\"x\")+1]\n",
        "            # print(ipx)\n",
        "            if(l[-1] ==\")\"):\n",
        "              print(\"continue\")\n",
        "              continue             \n",
        "            if l == '12px':\n",
        "              # print(\"12px\")\n",
        "              y_train.append([1,0,0,0,0,0,0])         \n",
        "            if l == '14px':\n",
        "              # print(\"14px\")\n",
        "              y_train.append([0,1,0,0,0,0,0])\n",
        "            if l == '16px':\n",
        "              # print(\"16px\")\n",
        "              y_train.append([0,0,1,0,0,0,0])\n",
        "            if l == '18px':\n",
        "              # print(\"18px\")\n",
        "              y_train.append([0,0,0,1,0,0,0])\n",
        "            if l == '20px':\n",
        "              # print(\"20px\")\n",
        "              y_train.append([0,0,0,0,1,0,0])\n",
        "            if l == '22px':\n",
        "              # print(\"22px\")\n",
        "              y_train.append([0,0,0,0,0,1,0])\n",
        "            if l == '24px':\n",
        "              # print(\"24px\")\n",
        "              y_train.append([0,0,0,0,0,0,1])\n",
        "            # else:\n",
        "            #       print(item)\n",
        "\n",
        "            img = image.load_img(file, grayscale=True)\n",
        "            img = img.crop((0,0,112,28))\n",
        "\n",
        "            ## Convert the Image object into a numpy array\n",
        "            img = image.img_to_array(img)\n",
        "\n",
        "            ## Add to a list of images and classes\n",
        "            x_train.append(img)\n",
        "          elif(RAND > 1.0 - testsizze):\n",
        "            l = item.split(\"_\")[2]\n",
        "            # print(l)\n",
        "            l = file[file.index(\"x\")-3:file.index(\"x\")+1]\n",
        "            if(l[-1] ==\")\"):\n",
        "              print(\"continue\")\n",
        "              continue             \n",
        "            if l == '12px':\n",
        "              # print(\"12px\")\n",
        "              y_test.append([1,0,0,0,0,0,0])         \n",
        "            elif l == '14px':\n",
        "              # print(\"14px\")\n",
        "              y_test.append([0,1,0,0,0,0,0])\n",
        "            elif l == '16px':\n",
        "              # print(\"16px\")\n",
        "              y_test.append([0,0,1,0,0,0,0])\n",
        "            elif l == '18px':\n",
        "              # print(\"18px\")\n",
        "              y_test.append([0,0,0,1,0,0,0])\n",
        "            elif l == '20px':\n",
        "              # print(\"20px\")\n",
        "              y_test.append([0,0,0,0,1,0,0])\n",
        "            elif l == '22px':\n",
        "              # print(\"22px\")\n",
        "              y_test.append([0,0,0,0,0,1,0])\n",
        "            elif l == '24px':\n",
        "              # print(\"24px\")\n",
        "              y_test.append([0,0,0,0,0,0,1])\n",
        "            # else:\n",
        "            #       print(item)\n",
        "\n",
        "            img = image.load_img(file, grayscale=True)\n",
        "            img = img.crop((0,0,112,28))\n",
        "\n",
        "            ## Convert the Image object into a numpy array\n",
        "            img = image.img_to_array(img)\n",
        "\n",
        "            ## Add to a list of images and classes\n",
        "            x_test.append(img)\n",
        "\n",
        "            \n",
        "  return x_train, y_train, x_test, y_test"
      ]
    },
    {
      "cell_type": "code",
      "execution_count": null,
      "metadata": {
        "execution": {
          "iopub.execute_input": "2022-02-11T01:02:13.713283Z",
          "iopub.status.busy": "2022-02-11T01:02:13.712794Z",
          "iopub.status.idle": "2022-02-11T01:02:29.123369Z",
          "shell.execute_reply": "2022-02-11T01:02:29.122601Z",
          "shell.execute_reply.started": "2022-02-11T01:02:13.713248Z"
        },
        "id": "2FNoyHWkNpcF",
        "trusted": true
      },
      "outputs": [],
      "source": [
        "x_train, y_train, x_test, y_test = img2dataTrainTest(trainImg)"
      ]
    },
    {
      "cell_type": "code",
      "execution_count": null,
      "metadata": {
        "execution": {
          "iopub.execute_input": "2022-02-11T01:02:30.196379Z",
          "iopub.status.busy": "2022-02-11T01:02:30.195762Z",
          "iopub.status.idle": "2022-02-11T01:02:31.014038Z",
          "shell.execute_reply": "2022-02-11T01:02:31.013284Z",
          "shell.execute_reply.started": "2022-02-11T01:02:30.196335Z"
        },
        "id": "vgZDhbLid6uP",
        "trusted": true
      },
      "outputs": [],
      "source": [
        "x_train = np.array(x_train)\n",
        "y_train = np.array(y_train)\n",
        "x_test = np.array(x_test)\n",
        "y_test = np.array(y_test)\n",
        "x_train = x_train.astype('float32')\n",
        "x_test = x_test.astype('float32')\n",
        "x_train /= 255\n",
        "x_test /= 255"
      ]
    },
    {
      "cell_type": "code",
      "execution_count": null,
      "metadata": {
        "execution": {
          "iopub.execute_input": "2022-02-11T01:02:32.134056Z",
          "iopub.status.busy": "2022-02-11T01:02:32.133520Z",
          "iopub.status.idle": "2022-02-11T01:02:32.142336Z",
          "shell.execute_reply": "2022-02-11T01:02:32.141456Z",
          "shell.execute_reply.started": "2022-02-11T01:02:32.134015Z"
        },
        "id": "FICOsa4VgK2U",
        "trusted": true
      },
      "outputs": [],
      "source": [
        "x_train.shape,y_train.shape,x_test.shape, y_test.shape"
      ]
    },
    {
      "cell_type": "code",
      "execution_count": null,
      "metadata": {
        "execution": {
          "iopub.execute_input": "2022-02-11T01:02:34.588940Z",
          "iopub.status.busy": "2022-02-11T01:02:34.588159Z",
          "iopub.status.idle": "2022-02-11T01:02:34.593005Z",
          "shell.execute_reply": "2022-02-11T01:02:34.592160Z",
          "shell.execute_reply.started": "2022-02-11T01:02:34.588890Z"
        },
        "id": "x5Lt5VKVv47A",
        "trusted": true
      },
      "outputs": [],
      "source": [
        "epochs = 20\n",
        "batch_size = 128"
      ]
    },
    {
      "cell_type": "code",
      "execution_count": null,
      "metadata": {
        "execution": {
          "iopub.execute_input": "2022-02-10T23:21:32.918821Z",
          "iopub.status.busy": "2022-02-10T23:21:32.917939Z",
          "iopub.status.idle": "2022-02-10T23:21:32.923136Z",
          "shell.execute_reply": "2022-02-10T23:21:32.922229Z",
          "shell.execute_reply.started": "2022-02-10T23:21:32.91877Z"
        },
        "id": "gtqbNhA-neti",
        "trusted": true
      },
      "outputs": [],
      "source": [
        "from tensorflow.keras import regularizers"
      ]
    },
    {
      "cell_type": "code",
      "execution_count": null,
      "metadata": {
        "execution": {
          "iopub.execute_input": "2022-02-11T01:02:42.941922Z",
          "iopub.status.busy": "2022-02-11T01:02:42.941637Z",
          "iopub.status.idle": "2022-02-11T01:02:45.215420Z",
          "shell.execute_reply": "2022-02-11T01:02:45.213780Z",
          "shell.execute_reply.started": "2022-02-11T01:02:42.941892Z"
        },
        "id": "4avzDBYsv2H_",
        "trusted": true
      },
      "outputs": [],
      "source": [
        "model=Sequential()\n",
        "\n",
        "#model.add(Lambda(standardize,input_shape=(28,28,1)))    \n",
        "model.add(Conv2D(filters=128, kernel_size = (3,3), activation=\"relu\", input_shape=(28,112,1)))\n",
        "model.add(Conv2D(filters=128, kernel_size = (3,3), activation=\"relu\"))\n",
        "\n",
        "model.add(MaxPooling2D(pool_size=(2,2)))\n",
        "model.add(BatchNormalization())\n",
        "model.add(Conv2D(filters=256, kernel_size = (3,3), activation=\"relu\"))\n",
        "model.add(Conv2D(filters=256, kernel_size = (3,3), activation=\"relu\"))\n",
        "\n",
        "model.add(MaxPooling2D(pool_size=(2,2)))\n",
        "model.add(BatchNormalization())    \n",
        "model.add(Conv2D(filters=512, kernel_size = (3,3), activation=\"relu\"))\n",
        "model.add(Dropout(0.25))\n",
        "    \n",
        "model.add(MaxPooling2D(pool_size=(2,2)))\n",
        "\n",
        "model.add(Flatten())\n",
        "model.add(BatchNormalization())\n",
        "model.add(Dense(1032,activation=\"relu\"))\n",
        "\n",
        "model.add(Dropout(0.25))\n",
        "\n",
        "model.add(Dense(7,activation=\"softmax\"))\n",
        "    \n",
        "model.compile(loss=\"categorical_crossentropy\", optimizer=\"adam\", metrics=[\"accuracy\"])"
      ]
    },
    {
      "cell_type": "code",
      "execution_count": null,
      "metadata": {
        "execution": {
          "iopub.execute_input": "2022-02-11T01:02:46.588000Z",
          "iopub.status.busy": "2022-02-11T01:02:46.586290Z",
          "iopub.status.idle": "2022-02-11T01:02:46.873911Z",
          "shell.execute_reply": "2022-02-11T01:02:46.872159Z",
          "shell.execute_reply.started": "2022-02-11T01:02:46.587947Z"
        },
        "id": "NCNexLG_vpm7",
        "trusted": true
      },
      "outputs": [],
      "source": [
        "# With data augmentation to prevent overfitting\n",
        "\n",
        "datagen = ImageDataGenerator(\n",
        "        featurewise_center=False,  # set input mean to 0 over the dataset\n",
        "        samplewise_center=False,  # set each sample mean to 0\n",
        "        featurewise_std_normalization=False,  # divide inputs by std of the dataset\n",
        "        samplewise_std_normalization=False,  # divide each input by its std\n",
        "        zca_whitening=False,  # apply ZCA whitening\n",
        "        #rotation_range=10,  # randomly rotate images in the range (degrees, 0 to 180)\n",
        "        rotation_range=0,\n",
        "#         zoom_range = 0.1, # Randomly zoom image \n",
        "        width_shift_range=0.1,  # randomly shift images horizontally (fraction of total width)\n",
        "        height_shift_range=0.1,  # randomly shift images vertically (fraction of total height)\n",
        "        horizontal_flip=False,  # randomly flip images\n",
        "        vertical_flip=False)  # randomly flip images\n",
        "\n",
        "datagen.fit(x_train)\n",
        "#datagen.fit(X_train)\n",
        "train_gen = datagen.flow(x_train, y_train, batch_size=batch_size)\n",
        "val_gen = datagen.flow(x_test, y_test, batch_size=batch_size)"
      ]
    },
    {
      "cell_type": "code",
      "execution_count": null,
      "metadata": {
        "execution": {
          "iopub.execute_input": "2022-02-11T01:02:52.327365Z",
          "iopub.status.busy": "2022-02-11T01:02:52.326702Z",
          "iopub.status.idle": "2022-02-11T01:02:52.332435Z",
          "shell.execute_reply": "2022-02-11T01:02:52.331486Z",
          "shell.execute_reply.started": "2022-02-11T01:02:52.327322Z"
        },
        "id": "SvmztBgeqbfL",
        "trusted": true
      },
      "outputs": [],
      "source": [
        "early_stopping=callbacks.EarlyStopping(monitor='val_loss', min_delta=0, patience=5, verbose=0, mode='min')\n",
        "\n",
        "filepath=\"./Second_Pong_Font_size.h5\"\n",
        "\n",
        "checkpoint = callbacks.ModelCheckpoint(filepath, monitor='val_loss', verbose=1, save_best_only=True, mode='min')\n",
        "\n",
        "callbacks_list = [early_stopping,checkpoint]"
      ]
    },
    {
      "cell_type": "code",
      "execution_count": null,
      "metadata": {
        "execution": {
          "iopub.execute_input": "2022-02-11T01:18:37.596461Z",
          "iopub.status.busy": "2022-02-11T01:18:37.596195Z",
          "iopub.status.idle": "2022-02-11T01:18:37.609386Z",
          "shell.execute_reply": "2022-02-11T01:18:37.608638Z",
          "shell.execute_reply.started": "2022-02-11T01:18:37.596432Z"
        },
        "id": "dXqP8NAJpESs",
        "trusted": true
      },
      "outputs": [],
      "source": [
        "model.compile(optimizer=tf.keras.optimizers.Adam(learning_rate=0.00001), loss='categorical_crossentropy'\n",
        "                , metrics= ['accuracy'], weighted_metrics=['accuracy'])"
      ]
    },
    {
      "cell_type": "code",
      "execution_count": null,
      "metadata": {
        "execution": {
          "iopub.execute_input": "2022-02-11T01:02:53.189268Z",
          "iopub.status.busy": "2022-02-11T01:02:53.188668Z",
          "iopub.status.idle": "2022-02-11T01:02:53.204022Z",
          "shell.execute_reply": "2022-02-11T01:02:53.203237Z",
          "shell.execute_reply.started": "2022-02-11T01:02:53.189225Z"
        },
        "id": "KVj4OMXdDHe5",
        "trusted": true
      },
      "outputs": [],
      "source": [
        "model.summary()"
      ]
    },
    {
      "cell_type": "code",
      "execution_count": null,
      "metadata": {
        "execution": {
          "iopub.execute_input": "2022-02-11T01:18:40.339721Z",
          "iopub.status.busy": "2022-02-11T01:18:40.339151Z",
          "iopub.status.idle": "2022-02-11T01:31:00.015050Z",
          "shell.execute_reply": "2022-02-11T01:31:00.014261Z",
          "shell.execute_reply.started": "2022-02-11T01:18:40.339680Z"
        },
        "id": "C5hqXdR-2GFm",
        "trusted": true
      },
      "outputs": [],
      "source": [
        "# Fit the model\n",
        "history = model.fit_generator(train_gen, \n",
        "                              epochs = epochs, \n",
        "                              steps_per_epoch = x_train.shape[0] // batch_size,\n",
        "                              validation_data = val_gen,\n",
        "                              validation_steps = x_test.shape[0] // batch_size,callbacks=callbacks_list)"
      ]
    },
    {
      "cell_type": "markdown",
      "metadata": {
        "id": "RjEuYD5hjIvG"
      },
      "source": [
        "#Prediction\n"
      ]
    },
    {
      "cell_type": "code",
      "execution_count": 6,
      "metadata": {
        "execution": {
          "iopub.execute_input": "2022-02-11T01:31:00.017388Z",
          "iopub.status.busy": "2022-02-11T01:31:00.016973Z",
          "iopub.status.idle": "2022-02-11T01:31:00.022241Z",
          "shell.execute_reply": "2022-02-11T01:31:00.021338Z",
          "shell.execute_reply.started": "2022-02-11T01:31:00.017342Z"
        },
        "id": "n5C0aFlCkYbz",
        "trusted": true
      },
      "outputs": [],
      "source": [
        "import pandas as pd\n",
        "import os\n",
        "from tqdm import tqdm\n",
        "import cv2\n",
        "import numpy as np"
      ]
    },
    {
      "cell_type": "code",
      "execution_count": null,
      "metadata": {
        "execution": {
          "iopub.execute_input": "2022-02-11T01:31:11.332690Z",
          "iopub.status.busy": "2022-02-11T01:31:11.332394Z",
          "iopub.status.idle": "2022-02-11T01:31:11.336829Z",
          "shell.execute_reply": "2022-02-11T01:31:11.336103Z",
          "shell.execute_reply.started": "2022-02-11T01:31:11.332647Z"
        },
        "id": "b5rb5WQBlMwC",
        "trusted": true
      },
      "outputs": [],
      "source": [
        "testdir = './test/crop_test_to_png/' #diectory where test data is"
      ]
    },
    {
      "cell_type": "code",
      "execution_count": null,
      "metadata": {
        "execution": {
          "iopub.execute_input": "2022-02-11T01:31:11.338463Z",
          "iopub.status.busy": "2022-02-11T01:31:11.338215Z",
          "iopub.status.idle": "2022-02-11T01:31:11.373645Z",
          "shell.execute_reply": "2022-02-11T01:31:11.372914Z",
          "shell.execute_reply.started": "2022-02-11T01:31:11.338428Z"
        },
        "id": "Fl_IfITBlh5-",
        "trusted": true
      },
      "outputs": [],
      "source": [
        "print(len(os.listdir('./test/crop_test_to_png')))"
      ]
    },
    {
      "cell_type": "code",
      "execution_count": 8,
      "metadata": {
        "colab": {
          "base_uri": "https://localhost:8080/"
        },
        "id": "cHyfHrofoYvk",
        "outputId": "d1af5515-955f-4f91-eae3-61e88f496343"
      },
      "outputs": [
        {
          "name": "stdout",
          "output_type": "stream",
          "text": [
            "Downloading...\n",
            "From: https://drive.google.com/uc?id=1dXBUUyGWHF3B-kR-3Z1Pn9uhHJrivi5m\n",
            "To: /content/Second_Pong_Font_size.h5\n",
            "100% 96.7M/96.7M [00:01<00:00, 66.8MB/s]\n"
          ]
        }
      ],
      "source": [
        "!gdown --id 1dXBUUyGWHF3B-kR-3Z1Pn9uhHJrivi5m"
      ]
    },
    {
      "cell_type": "code",
      "execution_count": 9,
      "metadata": {
        "execution": {
          "iopub.execute_input": "2022-02-11T01:31:11.376602Z",
          "iopub.status.busy": "2022-02-11T01:31:11.376393Z",
          "iopub.status.idle": "2022-02-11T01:31:11.768410Z",
          "shell.execute_reply": "2022-02-11T01:31:11.767439Z",
          "shell.execute_reply.started": "2022-02-11T01:31:11.376570Z"
        },
        "id": "8r1o4SOWmVCb",
        "trusted": true
      },
      "outputs": [],
      "source": [
        "from tensorflow import keras\n",
        "from keras.preprocessing import image\n",
        "model = keras.models.load_model('/content/Second_Pong_Font_size.h5')\n",
        "# model = keras.models.load_model('./Pong_Font_size.h5')\n"
      ]
    },
    {
      "cell_type": "code",
      "execution_count": null,
      "metadata": {
        "execution": {
          "iopub.execute_input": "2022-02-11T01:31:11.770212Z",
          "iopub.status.busy": "2022-02-11T01:31:11.769945Z",
          "iopub.status.idle": "2022-02-11T01:31:11.780645Z",
          "shell.execute_reply": "2022-02-11T01:31:11.779813Z",
          "shell.execute_reply.started": "2022-02-11T01:31:11.770169Z"
        },
        "id": "_3zFHlsUr03r",
        "trusted": true
      },
      "outputs": [],
      "source": [
        "def predict(path):\n",
        "  predictions = []\n",
        "  parentId = []\n",
        "  for item in tqdm(os.listdir(path)):\n",
        "\n",
        "    img = image.load_img(testdir + item, grayscale=True)\n",
        "    img = img.crop((0,0,112,28))\n",
        "\n",
        "    ## Convert the Image object into a numpy array\n",
        "    img = image.img_to_array(img)\n",
        "\n",
        "    ## Add to a list of images and classes\n",
        "    # x_test.append(img)\n",
        "\n",
        "    # img = cv2.imread(testdir + item)\n",
        "    # img = cv2.resize(img ,(105,105))\n",
        "    \n",
        "    # testimg = np.array(img)\n",
        "    testimg = img.astype('float32')\n",
        "    testimg /= 255\n",
        "    rimg = np.reshape(testimg ,(1,28,112,1))\n",
        "    predict = model.predict(rimg)\n",
        "    label = ['12px', '14px', '16px', '18px', '20px', '22px', '24px']\n",
        "    # predict = model.predict(testimg)\n",
        "    result = label[np.argmax(predict)]\n",
        "    predictions.append(result)\n",
        "    parentId.append(item.split(\".\")[0]+\"_size\")\n",
        "    # print(result)\n",
        "            \n",
        "  return parentId, predictions"
      ]
    },
    {
      "cell_type": "code",
      "execution_count": null,
      "metadata": {
        "execution": {
          "iopub.execute_input": "2022-02-11T01:31:11.782762Z",
          "iopub.status.busy": "2022-02-11T01:31:11.781926Z",
          "iopub.status.idle": "2022-02-11T01:58:54.902298Z",
          "shell.execute_reply": "2022-02-11T01:58:54.901505Z",
          "shell.execute_reply.started": "2022-02-11T01:31:11.782724Z"
        },
        "id": "5XkC1dV3rPrZ",
        "trusted": true
      },
      "outputs": [],
      "source": [
        "parentId, pred = predict(testdir)"
      ]
    },
    {
      "cell_type": "code",
      "execution_count": null,
      "metadata": {
        "execution": {
          "iopub.execute_input": "2022-02-10T22:55:26.006599Z",
          "iopub.status.busy": "2022-02-10T22:55:26.00583Z",
          "iopub.status.idle": "2022-02-10T22:55:26.245835Z",
          "shell.execute_reply": "2022-02-10T22:55:26.245026Z",
          "shell.execute_reply.started": "2022-02-10T22:55:26.006558Z"
        },
        "id": "44nFzV_1neto",
        "trusted": true
      },
      "outputs": [],
      "source": [
        "# origin_submit = pd.read_csv(\"../input/submission-fontrecog/Clear_Machi2_New_base_submission.csv\")\n",
        "# origin_submit.head()"
      ]
    },
    {
      "cell_type": "code",
      "execution_count": null,
      "metadata": {
        "execution": {
          "iopub.execute_input": "2022-02-10T22:55:27.286231Z",
          "iopub.status.busy": "2022-02-10T22:55:27.285707Z",
          "iopub.status.idle": "2022-02-10T23:02:32.051172Z",
          "shell.execute_reply": "2022-02-10T23:02:32.049906Z",
          "shell.execute_reply.started": "2022-02-10T22:55:27.286194Z"
        },
        "id": "9EjqWdixkgEw",
        "trusted": true
      },
      "outputs": [],
      "source": [
        "# for i in tqdm(range(len(parentId))):\n",
        "    \n",
        "#     idx = origin_submit['Id'].loc[lambda x: x==str(parentId[i])].index\n",
        "# #     print(idx[0])a\n",
        "#     origin_submit['Predicted'][idx[0]] = pred[i]"
      ]
    },
    {
      "cell_type": "code",
      "execution_count": null,
      "metadata": {
        "id": "o2Cu5MkInetp"
      },
      "outputs": [],
      "source": [
        "# for i in tqdm(range(len(parentId))):\n",
        "# #     parentId, pred\n",
        "#     idx = origin_submit['Id'].loc[lambda x: x==str(parentId[i])].index\n",
        "# #     print(idx[0])a\n",
        "#     origin_submit['Predicted'][idx[0]] = pred[i]"
      ]
    },
    {
      "cell_type": "markdown",
      "metadata": {
        "id": "iYyey7FMo2o7"
      },
      "source": [
        "zip แล้วเข้าไป merge data โค้ดพี่นนท์\n"
      ]
    },
    {
      "cell_type": "code",
      "execution_count": null,
      "metadata": {
        "id": "WnlohHcN6Upq"
      },
      "outputs": [],
      "source": [
        "# origin_submit.to_csv('testSubmit.csv',index=False)"
      ]
    },
    {
      "cell_type": "code",
      "execution_count": null,
      "metadata": {
        "execution": {
          "iopub.execute_input": "2022-02-11T02:13:58.513421Z",
          "iopub.status.busy": "2022-02-11T02:13:58.513136Z",
          "iopub.status.idle": "2022-02-11T02:13:58.544797Z",
          "shell.execute_reply": "2022-02-11T02:13:58.544096Z",
          "shell.execute_reply.started": "2022-02-11T02:13:58.513389Z"
        },
        "id": "jiuq7ahC6UlM",
        "trusted": true
      },
      "outputs": [],
      "source": [
        "df = pd.DataFrame(list(zip(parentId, pred)),\n",
        "               columns =['Id', 'Predicted'])"
      ]
    },
    {
      "cell_type": "code",
      "execution_count": null,
      "metadata": {
        "execution": {
          "iopub.execute_input": "2022-02-11T02:14:10.282645Z",
          "iopub.status.busy": "2022-02-11T02:14:10.282396Z",
          "iopub.status.idle": "2022-02-11T02:14:10.378574Z",
          "shell.execute_reply": "2022-02-11T02:14:10.377901Z",
          "shell.execute_reply.started": "2022-02-11T02:14:10.282616Z"
        },
        "id": "WPmF-SHo_s9z",
        "trusted": true
      },
      "outputs": [],
      "source": [
        "df.to_csv('Second_Font_size_pong.csv',index=False)"
      ]
    },
    {
      "cell_type": "markdown",
      "metadata": {
        "id": "lZ4ik4loomIO"
      },
      "source": [
        "#Merge df\n"
      ]
    },
    {
      "cell_type": "code",
      "execution_count": null,
      "metadata": {
        "execution": {
          "iopub.execute_input": "2022-02-10T22:34:01.089765Z",
          "iopub.status.busy": "2022-02-10T22:34:01.089502Z",
          "iopub.status.idle": "2022-02-10T22:34:01.324736Z",
          "shell.execute_reply": "2022-02-10T22:34:01.324002Z",
          "shell.execute_reply.started": "2022-02-10T22:34:01.089736Z"
        },
        "id": "Ioqz35mO_zYx",
        "trusted": true
      },
      "outputs": [],
      "source": [
        "base_submission = pd.read_csv(\"../input/submission-fontrecog/Clear_Machi2_New_base_submission.csv\")\n",
        "base_submission.head()"
      ]
    },
    {
      "cell_type": "code",
      "execution_count": null,
      "metadata": {
        "execution": {
          "iopub.execute_input": "2022-02-10T22:34:01.908498Z",
          "iopub.status.busy": "2022-02-10T22:34:01.907918Z",
          "iopub.status.idle": "2022-02-10T22:34:01.958131Z",
          "shell.execute_reply": "2022-02-10T22:34:01.957342Z",
          "shell.execute_reply.started": "2022-02-10T22:34:01.908454Z"
        },
        "id": "TU77TVTro6hf",
        "trusted": true
      },
      "outputs": [],
      "source": [
        "new_submission = pd.read_csv(\"../input/fontsize-predivt-val-80/Font_size_pong.csv\")\n",
        "new_submission.head()"
      ]
    },
    {
      "cell_type": "code",
      "execution_count": null,
      "metadata": {
        "execution": {
          "iopub.execute_input": "2022-02-10T22:35:52.373382Z",
          "iopub.status.busy": "2022-02-10T22:35:52.37306Z",
          "iopub.status.idle": "2022-02-10T22:35:52.389665Z",
          "shell.execute_reply": "2022-02-10T22:35:52.389033Z",
          "shell.execute_reply.started": "2022-02-10T22:35:52.373348Z"
        },
        "id": "tognHRuInetq",
        "trusted": true
      },
      "outputs": [],
      "source": [
        "Predicted = new_submission['Predicted'].tolist\n",
        "print(type(Predicted))\n",
        "print(Predicted)"
      ]
    },
    {
      "cell_type": "code",
      "execution_count": null,
      "metadata": {
        "execution": {
          "iopub.execute_input": "2022-02-10T22:39:42.829364Z",
          "iopub.status.busy": "2022-02-10T22:39:42.828844Z",
          "iopub.status.idle": "2022-02-10T22:39:42.894271Z",
          "shell.execute_reply": "2022-02-10T22:39:42.893185Z",
          "shell.execute_reply.started": "2022-02-10T22:39:42.829326Z"
        },
        "id": "psFYcQPAo4HH",
        "trusted": true
      },
      "outputs": [],
      "source": [
        "for i in tqdm(range(len(new_submission['Id']))):\n",
        "    ParentId = new_submission['Id'][i]\n",
        "    Predicted = new_submission['Predicted'][i]\n",
        "    \n",
        "#     print(base_submission['Id'].find(\"ParentId\"))\n",
        "#     idx = base_submission['Id'].loc[lambda x: x==str(new_submission['Id'][i])+\"_style-weight\"].index\n",
        "# #     print(idx[0])a\n",
        "#     base_submission['Predicted'][idx[0]] = new_submission['Predicted'][i]"
      ]
    },
    {
      "cell_type": "code",
      "execution_count": null,
      "metadata": {
        "id": "4k1Ows-snetr"
      },
      "outputs": [],
      "source": [
        "for i in tqdm(range(len(new_submission['Id']))):\n",
        "    idx = base_submission['Id'].loc[lambda x: x==str(new_submission['Id'][i])+\"_style-weight\"].index\n",
        "#     print(idx[0])a\n",
        "    base_submission['Predicted'][idx[0]] = new_submission['Predicted'][i]"
      ]
    },
    {
      "cell_type": "code",
      "execution_count": null,
      "metadata": {
        "id": "v7XWyIhku7dG"
      },
      "outputs": [],
      "source": [
        "base_submission.to_csv('Machi2_New_base_submission.csv',index=False)"
      ]
    },
    {
      "cell_type": "markdown",
      "metadata": {
        "id": "LEMRiFKRgLFA"
      },
      "source": [
        "#predict individual file\n"
      ]
    },
    {
      "cell_type": "code",
      "execution_count": null,
      "metadata": {
        "execution": {
          "iopub.execute_input": "2022-02-10T21:53:15.292895Z",
          "iopub.status.busy": "2022-02-10T21:53:15.292616Z",
          "iopub.status.idle": "2022-02-10T21:53:15.302193Z",
          "shell.execute_reply": "2022-02-10T21:53:15.301218Z",
          "shell.execute_reply.started": "2022-02-10T21:53:15.292862Z"
        },
        "id": "_2kb6YeEgQoA",
        "trusted": true
      },
      "outputs": [],
      "source": [
        "def predictSome(path):\n",
        "    c = 0\n",
        "  \n",
        "    predictions = []\n",
        "    parentId = []\n",
        "    c+=1\n",
        "    img = image.load_img(path, grayscale=True)\n",
        "    img = img.crop((0,0,112,28))\n",
        "\n",
        "    ## Convert the Image object into a numpy array\n",
        "    img = image.img_to_array(img)\n",
        "\n",
        "    ## Add to a list of images and classes\n",
        "    # x_test.append(img)\n",
        "\n",
        "    # img = cv2.imread(testdir + item)\n",
        "    # img = cv2.resize(img ,(105,105))\n",
        "    \n",
        "    # testimg = np.array(img)\n",
        "    testimg = img.astype('float32')\n",
        "    testimg /= 255\n",
        "    rimg = np.reshape(testimg ,(1,28,112,1))\n",
        "    predict = model.predict(rimg)\n",
        "    label = ['12px', '14px', '16px', '18px', '20px', '22px', '24px']\n",
        "    result = label[np.argmax(predict)]\n",
        "    predictions.append(result)\n",
        "    parentId.append(path.split(\".\")[0])\n",
        "    l = path[path.index(\"x\")-3:path.index(\"x\")+1]\n",
        "#     l = (path.split(\"_\")[-2] + \"-\" + path.split(\"_\")[-1]).split(\".\")[0]\n",
        "    print(result)\n",
        "    print(predict)\n",
        "    print('real:'+str(l))\n",
        "    print('predict:'+str(result))\n",
        "    \n",
        "            \n",
        "    return parentId, predictions"
      ]
    },
    {
      "cell_type": "code",
      "execution_count": null,
      "metadata": {
        "execution": {
          "iopub.execute_input": "2022-02-10T21:53:16.392875Z",
          "iopub.status.busy": "2022-02-10T21:53:16.392402Z",
          "iopub.status.idle": "2022-02-10T21:53:16.397423Z",
          "shell.execute_reply": "2022-02-10T21:53:16.396668Z",
          "shell.execute_reply.started": "2022-02-10T21:53:16.392835Z"
        },
        "id": "VrzpZmfRkoLA",
        "trusted": true
      },
      "outputs": [],
      "source": [
        "datapath = './font_fam/Angsana_New/'\n",
        "datadir = './font_fam/'"
      ]
    },
    {
      "cell_type": "code",
      "execution_count": null,
      "metadata": {
        "execution": {
          "iopub.execute_input": "2022-02-10T21:53:17.628108Z",
          "iopub.status.busy": "2022-02-10T21:53:17.627371Z",
          "iopub.status.idle": "2022-02-10T21:53:17.677387Z",
          "shell.execute_reply": "2022-02-10T21:53:17.676114Z",
          "shell.execute_reply.started": "2022-02-10T21:53:17.628068Z"
        },
        "id": "w4h_EBj9kqw2",
        "trusted": true
      },
      "outputs": [],
      "source": [
        "parentId, predictions = predictSome(datapath + os.listdir(datapath)[456])"
      ]
    },
    {
      "cell_type": "code",
      "execution_count": null,
      "metadata": {
        "collapsed": true,
        "execution": {
          "iopub.execute_input": "2022-02-10T21:53:24.399602Z",
          "iopub.status.busy": "2022-02-10T21:53:24.399338Z",
          "iopub.status.idle": "2022-02-10T21:53:26.444233Z",
          "shell.execute_reply": "2022-02-10T21:53:26.443435Z",
          "shell.execute_reply.started": "2022-02-10T21:53:24.399571Z"
        },
        "id": "oCWHz1dNkr8O",
        "jupyter": {
          "outputs_hidden": true
        },
        "trusted": true
      },
      "outputs": [],
      "source": [
        "for path in(os.listdir(datadir)):\n",
        "    print(\">>>>>\"+str(path)+\"<<<<<\")\n",
        "    for i in range(5):\n",
        "        print(datadir)\n",
        "        a,b = predictSome(datadir+path+\"/\" + os.listdir(datadir+path)[i])\n",
        "#         parentId, predictions = predictSome(datadir + os.listdir(datadir+path)[i])\n",
        "        print(\"\\n\")"
      ]
    },
    {
      "cell_type": "markdown",
      "metadata": {
        "id": "QblAz8IQO3dA"
      },
      "source": [
        "#Predict-font-family-rule-base\n"
      ]
    },
    {
      "cell_type": "code",
      "execution_count": null,
      "metadata": {
        "execution": {
          "iopub.execute_input": "2022-02-10T21:54:17.46713Z",
          "iopub.status.busy": "2022-02-10T21:54:17.466847Z",
          "iopub.status.idle": "2022-02-10T21:54:17.472145Z",
          "shell.execute_reply": "2022-02-10T21:54:17.471413Z",
          "shell.execute_reply.started": "2022-02-10T21:54:17.4671Z"
        },
        "id": "QXgXY42DQbIV",
        "trusted": true
      },
      "outputs": [],
      "source": [
        "import pandas as pd\n",
        "import os\n",
        "from tqdm import tqdm\n",
        "import cv2\n",
        "import numpy as np"
      ]
    },
    {
      "cell_type": "code",
      "execution_count": null,
      "metadata": {
        "id": "yfy_ebc0QhrG"
      },
      "outputs": [],
      "source": [
        "origin_submit = pd.read_csv(\"/content/sample_submission.csv\")\n",
        "origin_submit.head()"
      ]
    },
    {
      "cell_type": "code",
      "execution_count": null,
      "metadata": {
        "id": "2r9FtpKRQkuW"
      },
      "outputs": [],
      "source": [
        "origin_submit.info()"
      ]
    },
    {
      "cell_type": "code",
      "execution_count": null,
      "metadata": {
        "id": "YYTvgsWpQr1Z"
      },
      "outputs": [],
      "source": [
        "predicted_csv = pd.read_csv(\"/content/sample_submission.csv\")"
      ]
    },
    {
      "cell_type": "code",
      "execution_count": null,
      "metadata": {
        "id": "Gfipt8kJTzko"
      },
      "outputs": [],
      "source": [
        "def decodePredict(num):\n",
        "  if(int(num) == 0): return \"Angsana_New\"\n",
        "  if(int(num) == 1): return \"Cordia_New\"\n",
        "  if(int(num) == 2): return \"DM_Shining_Star_Regular\"\n",
        "  if(int(num) == 3): return \"FC_Knomphing_Regular\"\n",
        "  if(int(num) == 4): return \"fonttintin\"\n",
        "  if(int(num) == 5): return \"Kunlasatri\"\n",
        "  if(int(num) == 6): return \"TH_Chakra_Petch\"\n",
        "  if(int(num) == 7): return \"TH_Charm_of_AU\"\n",
        "  if(int(num) == 8): return \"TH_Mali_Grade6\"\n",
        "  if(int(num) == 9): return \"TH_Sarabun\"\n",
        "  # 0 Angsana_New\n",
        "  # 1 Cordia_New\n",
        "  # 2 DM_Shining_Star_Regular\n",
        "  # 3 FC_Knomphing_Regular\n",
        "  # 4 fonttintin\n",
        "  # 5 Kunlasatri\n",
        "  # 6 TH_Chakra_Petch\n",
        "  # 7 TH_Charm_of_AU\n",
        "  # 8 TH_Mali_Grade6\n",
        "  # 9 TH_Sarabun"
      ]
    },
    {
      "cell_type": "code",
      "execution_count": null,
      "metadata": {
        "id": "Zphg3hY_Q1Yd"
      },
      "outputs": [],
      "source": [
        "for i in tqdm(range(len(predicted_csv['parentId']))):\n",
        "    idx = origin_submit['Id'].loc[lambda x: x==str(predicted_csv[i])+\"_name\"].index\n",
        "    # print(idx[0])\n",
        "    origin_submit['Predicted'][idx[0]] = predicted_csv['prediction']\n",
        "    origin_submit['Predicted'][idx[0]+1] = str(predicted_csv['prediction'])+\".ttf\""
      ]
    }
  ],
  "metadata": {
    "colab": {
      "collapsed_sections": [
        "lZ4ik4loomIO",
        "LEMRiFKRgLFA",
        "QblAz8IQO3dA"
      ],
      "name": "fontsize_pipline.ipynb",
      "provenance": []
    },
    "kernelspec": {
      "display_name": "Python 3",
      "language": "python",
      "name": "python3"
    },
    "language_info": {
      "codemirror_mode": {
        "name": "ipython",
        "version": 3
      },
      "file_extension": ".py",
      "mimetype": "text/x-python",
      "name": "python",
      "nbconvert_exporter": "python",
      "pygments_lexer": "ipython3",
      "version": "3.7.12"
    }
  },
  "nbformat": 4,
  "nbformat_minor": 0
}
